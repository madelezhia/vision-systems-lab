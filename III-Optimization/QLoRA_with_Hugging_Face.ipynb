{
  "cells": [
    {
      "cell_type": "markdown",
      "metadata": {
        "colab_type": "text",
        "id": "view-in-github"
      },
      "source": [
        "<a href=\"https://colab.research.google.com/github/madelezhia/vision-systems-lab/blob/main/III-Optimization/QLoRA_with_Hugging_Face.ipynb\" target=\"_parent\"><img src=\"https://colab.research.google.com/assets/colab-badge.svg\" alt=\"Open In Colab\"/></a>"
      ]
    },
    {
      "cell_type": "markdown",
      "metadata": {
        "id": "a907aee9-941b-42d1-9e1e-91d704e61f89"
      },
      "source": [
        "# QLoRA with HuggingFace\n"
      ]
    },
    {
      "cell_type": "markdown",
      "metadata": {
        "id": "28222a72-6568-4731-96ec-1c6dc9a00e2e"
      },
      "source": [
        "GPU mandatory"
      ]
    },
    {
      "cell_type": "markdown",
      "metadata": {
        "id": "1512c29b-1f51-484d-b590-5b3eac1b0905"
      },
      "source": [
        "---\n"
      ]
    },
    {
      "cell_type": "markdown",
      "metadata": {
        "id": "3779ac45-7a2c-4e43-9f95-4a35d88d2fd0"
      },
      "source": [
        "# Setup\n"
      ]
    },
    {
      "cell_type": "code",
      "execution_count": null,
      "metadata": {
        "colab": {
          "base_uri": "https://localhost:8080/"
        },
        "id": "bb85aafc-050a-4596-94cd-2d0aee45fbd2",
        "outputId": "ec4c10a1-e41f-4cb0-a495-8d3bbc5c29da"
      },
      "outputs": [
        {
          "name": "stdout",
          "output_type": "stream",
          "text": [
            "Requirement already satisfied: datasets==2.20.0 in /usr/local/lib/python3.12/dist-packages (2.20.0)\n",
            "Requirement already satisfied: huggingface_hub==0.23.4 in /usr/local/lib/python3.12/dist-packages (0.23.4)\n",
            "Requirement already satisfied: transformers==4.41.2 in /usr/local/lib/python3.12/dist-packages (4.41.2)\n",
            "Requirement already satisfied: peft==0.11.1 in /usr/local/lib/python3.12/dist-packages (0.11.1)\n",
            "Requirement already satisfied: bitsandbytes==0.41.3 in /usr/local/lib/python3.12/dist-packages (0.41.3)\n",
            "Requirement already satisfied: matplotlib==3.9.0 in /usr/local/lib/python3.12/dist-packages (3.9.0)\n",
            "Requirement already satisfied: scikit-learn==1.5.0 in /usr/local/lib/python3.12/dist-packages (1.5.0)\n",
            "Requirement already satisfied: filelock in /usr/local/lib/python3.12/dist-packages (from datasets==2.20.0) (3.19.1)\n",
            "Requirement already satisfied: numpy>=1.17 in /usr/local/lib/python3.12/dist-packages (from datasets==2.20.0) (2.0.2)\n",
            "Requirement already satisfied: pyarrow>=15.0.0 in /usr/local/lib/python3.12/dist-packages (from datasets==2.20.0) (18.1.0)\n",
            "Requirement already satisfied: pyarrow-hotfix in /usr/local/lib/python3.12/dist-packages (from datasets==2.20.0) (0.7)\n",
            "Requirement already satisfied: dill<0.3.9,>=0.3.0 in /usr/local/lib/python3.12/dist-packages (from datasets==2.20.0) (0.3.8)\n",
            "Requirement already satisfied: pandas in /usr/local/lib/python3.12/dist-packages (from datasets==2.20.0) (2.2.2)\n",
            "Requirement already satisfied: requests>=2.32.2 in /usr/local/lib/python3.12/dist-packages (from datasets==2.20.0) (2.32.4)\n",
            "Requirement already satisfied: tqdm>=4.66.3 in /usr/local/lib/python3.12/dist-packages (from datasets==2.20.0) (4.67.1)\n",
            "Requirement already satisfied: xxhash in /usr/local/lib/python3.12/dist-packages (from datasets==2.20.0) (3.5.0)\n",
            "Requirement already satisfied: multiprocess in /usr/local/lib/python3.12/dist-packages (from datasets==2.20.0) (0.70.16)\n",
            "Requirement already satisfied: fsspec<=2024.5.0,>=2023.1.0 in /usr/local/lib/python3.12/dist-packages (from fsspec[http]<=2024.5.0,>=2023.1.0->datasets==2.20.0) (2024.5.0)\n",
            "Requirement already satisfied: aiohttp in /usr/local/lib/python3.12/dist-packages (from datasets==2.20.0) (3.12.15)\n",
            "Requirement already satisfied: packaging in /usr/local/lib/python3.12/dist-packages (from datasets==2.20.0) (25.0)\n",
            "Requirement already satisfied: pyyaml>=5.1 in /usr/local/lib/python3.12/dist-packages (from datasets==2.20.0) (6.0.3)\n",
            "Requirement already satisfied: typing-extensions>=3.7.4.3 in /usr/local/lib/python3.12/dist-packages (from huggingface_hub==0.23.4) (4.15.0)\n",
            "Requirement already satisfied: regex!=2019.12.17 in /usr/local/lib/python3.12/dist-packages (from transformers==4.41.2) (2024.11.6)\n",
            "Requirement already satisfied: tokenizers<0.20,>=0.19 in /usr/local/lib/python3.12/dist-packages (from transformers==4.41.2) (0.19.1)\n",
            "Requirement already satisfied: safetensors>=0.4.1 in /usr/local/lib/python3.12/dist-packages (from transformers==4.41.2) (0.6.2)\n",
            "Requirement already satisfied: psutil in /usr/local/lib/python3.12/dist-packages (from peft==0.11.1) (5.9.5)\n",
            "Requirement already satisfied: torch>=1.13.0 in /usr/local/lib/python3.12/dist-packages (from peft==0.11.1) (2.8.0+cu126)\n",
            "Requirement already satisfied: accelerate>=0.21.0 in /usr/local/lib/python3.12/dist-packages (from peft==0.11.1) (1.10.1)\n",
            "Requirement already satisfied: contourpy>=1.0.1 in /usr/local/lib/python3.12/dist-packages (from matplotlib==3.9.0) (1.3.3)\n",
            "Requirement already satisfied: cycler>=0.10 in /usr/local/lib/python3.12/dist-packages (from matplotlib==3.9.0) (0.12.1)\n",
            "Requirement already satisfied: fonttools>=4.22.0 in /usr/local/lib/python3.12/dist-packages (from matplotlib==3.9.0) (4.60.1)\n",
            "Requirement already satisfied: kiwisolver>=1.3.1 in /usr/local/lib/python3.12/dist-packages (from matplotlib==3.9.0) (1.4.9)\n",
            "Requirement already satisfied: pillow>=8 in /usr/local/lib/python3.12/dist-packages (from matplotlib==3.9.0) (11.3.0)\n",
            "Requirement already satisfied: pyparsing>=2.3.1 in /usr/local/lib/python3.12/dist-packages (from matplotlib==3.9.0) (3.2.5)\n",
            "Requirement already satisfied: python-dateutil>=2.7 in /usr/local/lib/python3.12/dist-packages (from matplotlib==3.9.0) (2.9.0.post0)\n",
            "Requirement already satisfied: scipy>=1.6.0 in /usr/local/lib/python3.12/dist-packages (from scikit-learn==1.5.0) (1.16.2)\n",
            "Requirement already satisfied: joblib>=1.2.0 in /usr/local/lib/python3.12/dist-packages (from scikit-learn==1.5.0) (1.5.2)\n",
            "Requirement already satisfied: threadpoolctl>=3.1.0 in /usr/local/lib/python3.12/dist-packages (from scikit-learn==1.5.0) (3.6.0)\n",
            "Requirement already satisfied: aiohappyeyeballs>=2.5.0 in /usr/local/lib/python3.12/dist-packages (from aiohttp->datasets==2.20.0) (2.6.1)\n",
            "Requirement already satisfied: aiosignal>=1.4.0 in /usr/local/lib/python3.12/dist-packages (from aiohttp->datasets==2.20.0) (1.4.0)\n",
            "Requirement already satisfied: attrs>=17.3.0 in /usr/local/lib/python3.12/dist-packages (from aiohttp->datasets==2.20.0) (25.3.0)\n",
            "Requirement already satisfied: frozenlist>=1.1.1 in /usr/local/lib/python3.12/dist-packages (from aiohttp->datasets==2.20.0) (1.7.0)\n",
            "Requirement already satisfied: multidict<7.0,>=4.5 in /usr/local/lib/python3.12/dist-packages (from aiohttp->datasets==2.20.0) (6.6.4)\n",
            "Requirement already satisfied: propcache>=0.2.0 in /usr/local/lib/python3.12/dist-packages (from aiohttp->datasets==2.20.0) (0.3.2)\n",
            "Requirement already satisfied: yarl<2.0,>=1.17.0 in /usr/local/lib/python3.12/dist-packages (from aiohttp->datasets==2.20.0) (1.20.1)\n",
            "Requirement already satisfied: six>=1.5 in /usr/local/lib/python3.12/dist-packages (from python-dateutil>=2.7->matplotlib==3.9.0) (1.17.0)\n",
            "Requirement already satisfied: charset_normalizer<4,>=2 in /usr/local/lib/python3.12/dist-packages (from requests>=2.32.2->datasets==2.20.0) (3.4.3)\n",
            "Requirement already satisfied: idna<4,>=2.5 in /usr/local/lib/python3.12/dist-packages (from requests>=2.32.2->datasets==2.20.0) (3.10)\n",
            "Requirement already satisfied: urllib3<3,>=1.21.1 in /usr/local/lib/python3.12/dist-packages (from requests>=2.32.2->datasets==2.20.0) (2.5.0)\n",
            "Requirement already satisfied: certifi>=2017.4.17 in /usr/local/lib/python3.12/dist-packages (from requests>=2.32.2->datasets==2.20.0) (2025.8.3)\n",
            "Requirement already satisfied: setuptools in /usr/local/lib/python3.12/dist-packages (from torch>=1.13.0->peft==0.11.1) (75.2.0)\n",
            "Requirement already satisfied: sympy>=1.13.3 in /usr/local/lib/python3.12/dist-packages (from torch>=1.13.0->peft==0.11.1) (1.13.3)\n",
            "Requirement already satisfied: networkx in /usr/local/lib/python3.12/dist-packages (from torch>=1.13.0->peft==0.11.1) (3.5)\n",
            "Requirement already satisfied: jinja2 in /usr/local/lib/python3.12/dist-packages (from torch>=1.13.0->peft==0.11.1) (3.1.6)\n",
            "Requirement already satisfied: nvidia-cuda-nvrtc-cu12==12.6.77 in /usr/local/lib/python3.12/dist-packages (from torch>=1.13.0->peft==0.11.1) (12.6.77)\n",
            "Requirement already satisfied: nvidia-cuda-runtime-cu12==12.6.77 in /usr/local/lib/python3.12/dist-packages (from torch>=1.13.0->peft==0.11.1) (12.6.77)\n",
            "Requirement already satisfied: nvidia-cuda-cupti-cu12==12.6.80 in /usr/local/lib/python3.12/dist-packages (from torch>=1.13.0->peft==0.11.1) (12.6.80)\n",
            "Requirement already satisfied: nvidia-cudnn-cu12==9.10.2.21 in /usr/local/lib/python3.12/dist-packages (from torch>=1.13.0->peft==0.11.1) (9.10.2.21)\n",
            "Requirement already satisfied: nvidia-cublas-cu12==12.6.4.1 in /usr/local/lib/python3.12/dist-packages (from torch>=1.13.0->peft==0.11.1) (12.6.4.1)\n",
            "Requirement already satisfied: nvidia-cufft-cu12==11.3.0.4 in /usr/local/lib/python3.12/dist-packages (from torch>=1.13.0->peft==0.11.1) (11.3.0.4)\n",
            "Requirement already satisfied: nvidia-curand-cu12==10.3.7.77 in /usr/local/lib/python3.12/dist-packages (from torch>=1.13.0->peft==0.11.1) (10.3.7.77)\n",
            "Requirement already satisfied: nvidia-cusolver-cu12==11.7.1.2 in /usr/local/lib/python3.12/dist-packages (from torch>=1.13.0->peft==0.11.1) (11.7.1.2)\n",
            "Requirement already satisfied: nvidia-cusparse-cu12==12.5.4.2 in /usr/local/lib/python3.12/dist-packages (from torch>=1.13.0->peft==0.11.1) (12.5.4.2)\n",
            "Requirement already satisfied: nvidia-cusparselt-cu12==0.7.1 in /usr/local/lib/python3.12/dist-packages (from torch>=1.13.0->peft==0.11.1) (0.7.1)\n",
            "Requirement already satisfied: nvidia-nccl-cu12==2.27.3 in /usr/local/lib/python3.12/dist-packages (from torch>=1.13.0->peft==0.11.1) (2.27.3)\n",
            "Requirement already satisfied: nvidia-nvtx-cu12==12.6.77 in /usr/local/lib/python3.12/dist-packages (from torch>=1.13.0->peft==0.11.1) (12.6.77)\n",
            "Requirement already satisfied: nvidia-nvjitlink-cu12==12.6.85 in /usr/local/lib/python3.12/dist-packages (from torch>=1.13.0->peft==0.11.1) (12.6.85)\n",
            "Requirement already satisfied: nvidia-cufile-cu12==1.11.1.6 in /usr/local/lib/python3.12/dist-packages (from torch>=1.13.0->peft==0.11.1) (1.11.1.6)\n",
            "Requirement already satisfied: triton==3.4.0 in /usr/local/lib/python3.12/dist-packages (from torch>=1.13.0->peft==0.11.1) (3.4.0)\n",
            "Requirement already satisfied: pytz>=2020.1 in /usr/local/lib/python3.12/dist-packages (from pandas->datasets==2.20.0) (2025.2)\n",
            "Requirement already satisfied: tzdata>=2022.7 in /usr/local/lib/python3.12/dist-packages (from pandas->datasets==2.20.0) (2025.2)\n",
            "Requirement already satisfied: mpmath<1.4,>=1.1.0 in /usr/local/lib/python3.12/dist-packages (from sympy>=1.13.3->torch>=1.13.0->peft==0.11.1) (1.3.0)\n",
            "Requirement already satisfied: MarkupSafe>=2.0 in /usr/local/lib/python3.12/dist-packages (from jinja2->torch>=1.13.0->peft==0.11.1) (3.0.3)\n"
          ]
        }
      ],
      "source": [
        "!pip install -U datasets==2.20.0 huggingface_hub==0.23.4\n",
        "!pip install -U transformers>=4.42.0 peft==0.11.1\n",
        "\n",
        "# 2. installer la roue *preview* officielle (x86_64, CUDA 12.6)\n",
        "!pip install --force-reinstall \\\n",
        "    https://github.com/bitsandbytes-foundation/bitsandbytes/releases/download/continuous-release_main/bitsandbytes-1.33.7.preview-py3-none-manylinux_2_24_x86_64.whl\n",
        "\n",
        "# 3. vérifier\n",
        "!python -m bitsandbytes        # doit afficher « SUCCESS »\n",
        "!pip install -U matplotlib==3.9.0 scikit-learn==1.5.0\n",
        "# 1. désinstaller l’ancien bitsandbytes"
      ]
    },
    {
      "cell_type": "code",
      "execution_count": null,
      "metadata": {
        "colab": {
          "base_uri": "https://localhost:8080/"
        },
        "id": "1n_kqfiatGcv",
        "outputId": "7ad424c1-8aa6-4211-83e9-67c7efae84c3"
      },
      "outputs": [
        {
          "name": "stdout",
          "output_type": "stream",
          "text": [
            "\u001b[31mERROR: pip's dependency resolver does not currently take into account all the packages that are installed. This behaviour is the source of the following dependency conflicts.\n",
            "datasets 2.20.0 requires fsspec[http]<=2024.5.0,>=2023.1.0, but you have fsspec 2025.9.0 which is incompatible.\u001b[0m\u001b[31m\n",
            "\u001b[0m"
          ]
        }
      ],
      "source": [
        "!pip install -U transformers>=4.42.0"
      ]
    },
    {
      "cell_type": "markdown",
      "metadata": {
        "id": "9b7a8d6e-6470-4c33-9e08-671aff6a2267"
      },
      "source": [
        "### Import required libraries"
      ]
    },
    {
      "cell_type": "code",
      "execution_count": null,
      "metadata": {
        "id": "1ce325c3-8308-4998-900f-8ede1e324e2f"
      },
      "outputs": [],
      "source": [
        "import torch\n",
        "import matplotlib.pyplot as plt\n",
        "# You can also use this section to suppress warnings generated by your code:\n",
        "def warn(*args, **kwargs):\n",
        "    pass\n",
        "import warnings\n",
        "warnings.warn = warn\n",
        "warnings.filterwarnings('ignore')\n",
        "\n",
        "import json\n",
        "\n",
        "import numpy as np\n",
        "\n",
        "from datasets import load_dataset, load_metric\n",
        "\n",
        "# 2. Mock triton.ops\n",
        "import sys\n",
        "import types\n",
        "sys.modules[\"triton.ops\"] = types.ModuleType(\"triton.ops\")\n",
        "\n",
        "from transformers import AutoTokenizer, AutoModelForSequenceClassification, Trainer, TrainingArguments, BitsAndBytesConfig\n",
        "\n",
        "from peft import LoraConfig, get_peft_model, TaskType, replace_lora_weights_loftq, prepare_model_for_kbit_training"
      ]
    },
    {
      "cell_type": "code",
      "execution_count": null,
      "metadata": {
        "id": "f2a4e835-7753-4850-b303-1672770cc7c7"
      },
      "outputs": [],
      "source": [
        "# Move the model to the appropriate device\n",
        "device = torch.device('cuda' if torch.cuda.is_available() else 'cpu')"
      ]
    },
    {
      "cell_type": "markdown",
      "metadata": {
        "id": "5f1333bc-2040-4a75-bcd7-8295d666e31a"
      },
      "source": [
        "### Define helper functions"
      ]
    },
    {
      "cell_type": "code",
      "execution_count": null,
      "metadata": {
        "id": "3ff9d01a-654e-476f-a94c-ed8c9ddd5c5c"
      },
      "outputs": [],
      "source": [
        "def save_to_json(data, file_path):\n",
        "    \"\"\"\n",
        "    Save a dictionary to a JSON file.\n",
        "\n",
        "    Args:\n",
        "        data (dict): The dictionary to save.\n",
        "        file_path (str): The path to the JSON file.\n",
        "    \"\"\"\n",
        "    with open(file_path, 'w') as json_file:\n",
        "        json.dump(data, json_file, indent=4)\n",
        "    print(f\"Data successfully saved to {file_path}\")\n",
        "\n",
        "\n",
        "def load_from_json(file_path):\n",
        "    \"\"\"\n",
        "    Load data from a JSON file.\n",
        "\n",
        "    Args:\n",
        "        file_path (str): The path to the JSON file.\n",
        "\n",
        "    Returns:\n",
        "        dict: The data loaded from the JSON file.\n",
        "    \"\"\"\n",
        "    with open(file_path, 'r') as json_file:\n",
        "        data = json.load(json_file)\n",
        "    return data"
      ]
    },
    {
      "cell_type": "markdown",
      "metadata": {
        "id": "d712c2c8-9db5-4409-aab1-6129dacf60dc"
      },
      "source": [
        "# IMDB dataset"
      ]
    },
    {
      "cell_type": "code",
      "execution_count": null,
      "metadata": {
        "id": "62b498ab-361a-4066-a9c3-ef188af99bb1"
      },
      "outputs": [],
      "source": [
        "imdb = load_dataset(\"imdb\")"
      ]
    },
    {
      "cell_type": "markdown",
      "metadata": {
        "id": "63125fb6-8c61-4c90-bab6-24871ef67f90"
      },
      "source": [
        "Let's display the structure of the IMDB dataset:\n"
      ]
    },
    {
      "cell_type": "code",
      "execution_count": null,
      "metadata": {
        "colab": {
          "base_uri": "https://localhost:8080/"
        },
        "id": "c5f4a0f2-4056-4232-bb24-c0013f73647c",
        "outputId": "a93b441a-c20f-4566-949e-a397c61c132a"
      },
      "outputs": [
        {
          "name": "stdout",
          "output_type": "stream",
          "text": [
            "Dataset structure:\n",
            "DatasetDict({\n",
            "    train: Dataset({\n",
            "        features: ['text', 'label'],\n",
            "        num_rows: 25000\n",
            "    })\n",
            "    test: Dataset({\n",
            "        features: ['text', 'label'],\n",
            "        num_rows: 25000\n",
            "    })\n",
            "    unsupervised: Dataset({\n",
            "        features: ['text', 'label'],\n",
            "        num_rows: 50000\n",
            "    })\n",
            "})\n"
          ]
        }
      ],
      "source": [
        "# Display the structure of the dataset\n",
        "print(\"Dataset structure:\")\n",
        "print(imdb)"
      ]
    },
    {
      "cell_type": "markdown",
      "metadata": {
        "id": "7e678bd8-3a79-40a1-92b1-46db18b0dee9"
      },
      "source": [
        "The following displays the available splits in the dataset (train, test, unsupervised)\n"
      ]
    },
    {
      "cell_type": "code",
      "execution_count": null,
      "metadata": {
        "colab": {
          "base_uri": "https://localhost:8080/"
        },
        "id": "ca98b2e8-cdb7-451f-81de-6011decd51c8",
        "outputId": "d5d63cfc-62ca-4a14-88b9-86c53235a133"
      },
      "outputs": [
        {
          "data": {
            "text/plain": [
              "dict_keys(['train', 'test', 'unsupervised'])"
            ]
          },
          "execution_count": 6,
          "metadata": {},
          "output_type": "execute_result"
        }
      ],
      "source": [
        "imdb.keys()"
      ]
    },
    {
      "cell_type": "markdown",
      "metadata": {
        "id": "ef978a1d-a8fd-45e9-a7dc-db2e69022e3b"
      },
      "source": [
        "Let's explore and print a sample from the training set:\n"
      ]
    },
    {
      "cell_type": "code",
      "execution_count": null,
      "metadata": {
        "colab": {
          "base_uri": "https://localhost:8080/"
        },
        "id": "68826935-4c7c-4b83-ab35-9402aac41a98",
        "outputId": "675cc4db-e76f-44a2-be55-c89666de4b67"
      },
      "outputs": [
        {
          "name": "stdout",
          "output_type": "stream",
          "text": [
            "\n",
            "Sample from the training set:\n",
            "{'text': 'I rented I AM CURIOUS-YELLOW from my video store because of all the controversy that surrounded it when it was first released in 1967. I also heard that at first it was seized by U.S. customs if it ever tried to enter this country, therefore being a fan of films considered \"controversial\" I really had to see this for myself.<br /><br />The plot is centered around a young Swedish drama student named Lena who wants to learn everything she can about life. In particular she wants to focus her attentions to making some sort of documentary on what the average Swede thought about certain political issues such as the Vietnam War and race issues in the United States. In between asking politicians and ordinary denizens of Stockholm about their opinions on politics, she has sex with her drama teacher, classmates, and married men.<br /><br />What kills me about I AM CURIOUS-YELLOW is that 40 years ago, this was considered pornographic. Really, the sex and nudity scenes are few and far between, even then it\\'s not shot like some cheaply made porno. While my countrymen mind find it shocking, in reality sex and nudity are a major staple in Swedish cinema. Even Ingmar Bergman, arguably their answer to good old boy John Ford, had sex scenes in his films.<br /><br />I do commend the filmmakers for the fact that any sex shown in the film is shown for artistic purposes rather than just to shock people and make money to be shown in pornographic theaters in America. I AM CURIOUS-YELLOW is a good film for anyone wanting to study the meat and potatoes (no pun intended) of Swedish cinema. But really, this film doesn\\'t have much of a plot.', 'label': 0}\n"
          ]
        }
      ],
      "source": [
        "# Explore and print a sample from the training set\n",
        "print(\"\\nSample from the training set:\")\n",
        "print(imdb['train'][0])"
      ]
    },
    {
      "cell_type": "markdown",
      "metadata": {
        "id": "5422c1ce-a3b2-4631-b63d-f22ee771d286"
      },
      "source": [
        "The followiong displays the unique class labels in the dataset. For the IMDB dataset, the labels are integers representing sentiment, where 0 stands for “negative” and 1 stands for “positive”. Here’s how you can extract this information:\n"
      ]
    },
    {
      "cell_type": "code",
      "execution_count": null,
      "metadata": {
        "colab": {
          "base_uri": "https://localhost:8080/"
        },
        "id": "253436ca-bc6e-4953-955e-a467f645ed09",
        "outputId": "5a1c67dc-2ada-4176-94f3-388e18465b03"
      },
      "outputs": [
        {
          "name": "stdout",
          "output_type": "stream",
          "text": [
            "\n",
            "Unique labels in the dataset (class information):\n",
            "{0, 1}\n"
          ]
        }
      ],
      "source": [
        "train_labels = imdb['train']['label']\n",
        "unique_labels = set(train_labels)\n",
        "print(\"\\nUnique labels in the dataset (class information):\")\n",
        "print(unique_labels)"
      ]
    },
    {
      "cell_type": "markdown",
      "metadata": {
        "id": "26335082-7b83-4004-88af-29e02c81931c"
      },
      "source": [
        "The following dictionary maps class values to class names:\n"
      ]
    },
    {
      "cell_type": "code",
      "execution_count": null,
      "metadata": {
        "colab": {
          "base_uri": "https://localhost:8080/"
        },
        "id": "3d84e815-b050-45af-aa43-a18eb281d712",
        "outputId": "5e70cf29-caef-4348-9e76-86a9c6118c32"
      },
      "outputs": [
        {
          "data": {
            "text/plain": [
              "{0: 'negative', 1: 'positive'}"
            ]
          },
          "execution_count": 9,
          "metadata": {},
          "output_type": "execute_result"
        }
      ],
      "source": [
        "class_names = {0: \"negative\", 1: \"positive\"}\n",
        "class_names"
      ]
    },
    {
      "cell_type": "markdown",
      "metadata": {
        "id": "032f50aa-4ab6-4002-ba30-3089cc7fab4d"
      },
      "source": [
        "Since the IMDB dataset is quite large, we’ll create smaller subsets to facilitate quicker training and testing.\n",
        "\n",
        "In this notebook, we simulate training and testing using the `small_` datasets due to time constraints. However, it's important to recognize that these smaller datasets are insufficient for proper fine-tuning of the DistilBERT model. For more accurate results, a larger subsample, such as the `medium_train_dataset`, would be necessary.\n",
        "\n",
        "Consequently, all results presented here pertain to models trained with the `medium_train_dataset` and evaluated on the test set from `medium_test_dataset`. However, the notebook, as is, does NOT train models on these datasets; rather, it trains models using the `small_` datasets, as training on the `medium_` datasets would be too time-consuming.\n"
      ]
    },
    {
      "cell_type": "code",
      "execution_count": null,
      "metadata": {
        "id": "4353854f-f163-49ff-8ca4-ced8700a8f42"
      },
      "outputs": [],
      "source": [
        "small_train_dataset = imdb[\"train\"].shuffle(seed=42).select([i for i in list(range(50))])\n",
        "small_test_dataset = imdb[\"test\"].shuffle(seed=42).select([i for i in list(range(50))])\n",
        "medium_train_dataset = imdb[\"train\"].shuffle(seed=42).select([i for i in list(range(3000))])\n",
        "medium_test_dataset = imdb[\"test\"].shuffle(seed=42).select([i for i in list(range(300))])"
      ]
    },
    {
      "cell_type": "markdown",
      "metadata": {
        "id": "cb7c493d-37c0-4fbf-9add-ff25a11acecb"
      },
      "source": [
        "# Tokenizer\n",
        "\n",
        "The following loads the DistilBERT tokenizer:    \n"
      ]
    },
    {
      "cell_type": "code",
      "execution_count": null,
      "metadata": {
        "id": "b1a93e8c-cf7d-4a8d-b58f-0a2336905f04"
      },
      "outputs": [],
      "source": [
        "tokenizer = AutoTokenizer.from_pretrained(\"distilbert-base-uncased\")"
      ]
    },
    {
      "cell_type": "markdown",
      "metadata": {
        "id": "0665382d-99a1-426d-bce4-4b940c84f670"
      },
      "source": [
        "The tokenizer provides tokenized input IDs and an attention mask for a given input text:\n"
      ]
    },
    {
      "cell_type": "code",
      "execution_count": null,
      "metadata": {
        "colab": {
          "base_uri": "https://localhost:8080/"
        },
        "id": "b4004dfc-df0a-49ef-b158-937192bbee90",
        "outputId": "6a0c7a96-b555-4a87-f56c-37f0fa7fbba8"
      },
      "outputs": [
        {
          "name": "stdout",
          "output_type": "stream",
          "text": [
            "Input IDs: [101, 1045, 12524, 1045, 2572, 8025, 1011, 3756, 2013, 2026, 2678, 3573, 2138, 1997, 2035, 1996, 6704, 2008, 5129, 2009, 2043, 2009, 2001, 2034, 2207, 1999, 3476, 1012, 1045, 2036, 2657, 2008, 2012, 2034, 2009, 2001, 8243, 2011, 1057, 1012, 1055, 1012, 8205, 2065, 2009, 2412, 2699, 2000, 4607, 2023, 2406, 1010, 3568, 2108, 1037, 5470, 1997, 3152, 2641, 1000, 6801, 1000, 1045, 2428, 2018, 2000, 2156, 2023, 2005, 2870, 1012, 1026, 7987, 1013, 1028, 1026, 7987, 1013, 1028, 1996, 5436, 2003, 8857, 2105, 1037, 2402, 4467, 3689, 3076, 2315, 14229, 2040, 4122, 2000, 4553, 2673, 2016, 2064, 2055, 2166, 1012, 1999, 3327, 2016, 4122, 2000, 3579, 2014, 3086, 2015, 2000, 2437, 2070, 4066, 1997, 4516, 2006, 2054, 1996, 2779, 25430, 14728, 2245, 2055, 3056, 2576, 3314, 2107, 2004, 1996, 5148, 2162, 1998, 2679, 3314, 1999, 1996, 2142, 2163, 1012, 1999, 2090, 4851, 8801, 1998, 6623, 7939, 4697, 3619, 1997, 8947, 2055, 2037, 10740, 2006, 4331, 1010, 2016, 2038, 3348, 2007, 2014, 3689, 3836, 1010, 19846, 1010, 1998, 2496, 2273, 1012, 1026, 7987, 1013, 1028, 1026, 7987, 1013, 1028, 2054, 8563, 2033, 2055, 1045, 2572, 8025, 1011, 3756, 2003, 2008, 2871, 2086, 3283, 1010, 2023, 2001, 2641, 26932, 1012, 2428, 1010, 1996, 3348, 1998, 16371, 25469, 5019, 2024, 2261, 1998, 2521, 2090, 1010, 2130, 2059, 2009, 1005, 1055, 2025, 2915, 2066, 2070, 10036, 2135, 2081, 22555, 2080, 1012, 2096, 2026, 2406, 3549, 2568, 2424, 2009, 16880, 1010, 1999, 4507, 3348, 1998, 16371, 25469, 2024, 1037, 2350, 18785, 1999, 4467, 5988, 1012, 2130, 13749, 7849, 24544, 1010, 15835, 2037, 3437, 2000, 2204, 2214, 2879, 2198, 4811, 1010, 2018, 3348, 5019, 1999, 2010, 3152, 1012, 1026, 7987, 1013, 1028, 1026, 7987, 1013, 1028, 1045, 2079, 4012, 3549, 2094, 1996, 16587, 2005, 1996, 2755, 2008, 2151, 3348, 3491, 1999, 1996, 2143, 2003, 3491, 2005, 6018, 5682, 2738, 2084, 2074, 2000, 5213, 2111, 1998, 2191, 2769, 2000, 2022, 3491, 1999, 26932, 12370, 1999, 2637, 1012, 1045, 2572, 8025, 1011, 3756, 2003, 1037, 2204, 2143, 2005, 3087, 5782, 2000, 2817, 1996, 6240, 1998, 14629, 1006, 2053, 26136, 3832, 1007, 1997, 4467, 5988, 1012, 2021, 2428, 1010, 2023, 2143, 2987, 1005, 1056, 2031, 2172, 1997, 1037, 5436, 1012, 102]\n",
            "Attention Mask: [1, 1, 1, 1, 1, 1, 1, 1, 1, 1, 1, 1, 1, 1, 1, 1, 1, 1, 1, 1, 1, 1, 1, 1, 1, 1, 1, 1, 1, 1, 1, 1, 1, 1, 1, 1, 1, 1, 1, 1, 1, 1, 1, 1, 1, 1, 1, 1, 1, 1, 1, 1, 1, 1, 1, 1, 1, 1, 1, 1, 1, 1, 1, 1, 1, 1, 1, 1, 1, 1, 1, 1, 1, 1, 1, 1, 1, 1, 1, 1, 1, 1, 1, 1, 1, 1, 1, 1, 1, 1, 1, 1, 1, 1, 1, 1, 1, 1, 1, 1, 1, 1, 1, 1, 1, 1, 1, 1, 1, 1, 1, 1, 1, 1, 1, 1, 1, 1, 1, 1, 1, 1, 1, 1, 1, 1, 1, 1, 1, 1, 1, 1, 1, 1, 1, 1, 1, 1, 1, 1, 1, 1, 1, 1, 1, 1, 1, 1, 1, 1, 1, 1, 1, 1, 1, 1, 1, 1, 1, 1, 1, 1, 1, 1, 1, 1, 1, 1, 1, 1, 1, 1, 1, 1, 1, 1, 1, 1, 1, 1, 1, 1, 1, 1, 1, 1, 1, 1, 1, 1, 1, 1, 1, 1, 1, 1, 1, 1, 1, 1, 1, 1, 1, 1, 1, 1, 1, 1, 1, 1, 1, 1, 1, 1, 1, 1, 1, 1, 1, 1, 1, 1, 1, 1, 1, 1, 1, 1, 1, 1, 1, 1, 1, 1, 1, 1, 1, 1, 1, 1, 1, 1, 1, 1, 1, 1, 1, 1, 1, 1, 1, 1, 1, 1, 1, 1, 1, 1, 1, 1, 1, 1, 1, 1, 1, 1, 1, 1, 1, 1, 1, 1, 1, 1, 1, 1, 1, 1, 1, 1, 1, 1, 1, 1, 1, 1, 1, 1, 1, 1, 1, 1, 1, 1, 1, 1, 1, 1, 1, 1, 1, 1, 1, 1, 1, 1, 1, 1, 1, 1, 1, 1, 1, 1, 1, 1, 1, 1, 1, 1, 1, 1, 1, 1, 1, 1, 1, 1, 1, 1, 1, 1, 1, 1, 1, 1, 1, 1, 1, 1, 1, 1, 1, 1, 1, 1, 1, 1, 1, 1, 1, 1, 1, 1, 1, 1, 1, 1, 1, 1, 1, 1, 1]\n"
          ]
        }
      ],
      "source": [
        "my_tokens=tokenizer(imdb['train'][0]['text'])\n",
        "\n",
        "# Print the tokenized input IDs\n",
        "print(\"Input IDs:\", my_tokens['input_ids'])\n",
        "\n",
        "# Print the attention mask\n",
        "print(\"Attention Mask:\", my_tokens['attention_mask'])\n",
        "\n",
        "# If token_type_ids is present, print it\n",
        "if 'token_type_ids' in my_tokens:\n",
        "    print(\"Token Type IDs:\", my_tokens['token_type_ids'])"
      ]
    },
    {
      "cell_type": "markdown",
      "metadata": {
        "id": "3139ed90-09f8-4869-b5dd-68c68bccf587"
      },
      "source": [
        "The following preprocessing function tokenizes a text input. We apply this function to all texts in our datasets using the `.map()` method:\n"
      ]
    },
    {
      "cell_type": "code",
      "execution_count": null,
      "metadata": {
        "colab": {
          "base_uri": "https://localhost:8080/",
          "height": 145,
        },
        "id": "9dc3bec2-1cda-432c-ae31-64a05ab538bc",
        "outputId": "9de39bcc-0251-4fcd-e6af-606efff6c003"
      },
      "outputs": [],
      "source": [
        "def preprocess_function(examples):\n",
        "    return tokenizer(examples[\"text\"], padding=True, truncation=True, max_length=512)\n",
        "\n",
        "small_tokenized_train = small_train_dataset.map(preprocess_function, batched=True)\n",
        "small_tokenized_test = small_test_dataset.map(preprocess_function, batched=True)\n",
        "medium_tokenized_train = medium_train_dataset.map(preprocess_function, batched=True)\n",
        "medium_tokenized_test = medium_test_dataset.map(preprocess_function, batched=True)"
      ]
    },
    {
      "cell_type": "markdown",
      "metadata": {
        "id": "557f95d9-658c-4564-b803-62490065e7d2"
      },
      "source": [
        "Run the following to see what a sample from the tokenized dataset looks like. Note that this dataset is identical to the original, with just the token indices and attention mask appended.\n"
      ]
    },
    {
      "cell_type": "code",
      "execution_count": null,
      "metadata": {
        "colab": {
          "base_uri": "https://localhost:8080/"
        },
        "id": "78a1a81c-34e6-4f8f-a5ea-3e87785e505d",
        "outputId": "39da4070-f92a-4f31-b2c5-af4b891b5662"
      },
      "outputs": [
        {
          "name": "stdout",
          "output_type": "stream",
          "text": [
            "{'text': 'With no affinity towards any type of filmmaking, and a healthy appreciation of documentaries, I can honestly say I was angry at myself for bothering to sit through the entire length of \"20 Dates\". I won\\'t waste your time with the plot, you may read other reviews. I will say though that Berkowitz\\'s hyper, Woody Allen-style narration was extremely annoying. You either wished he\\'d lay off the coffee or ingest some tranquilizers. And it\\'s potentially apparent to Berkowitz himself that this film was a bad idea, as parts of it details his trials to finance the documentary. Forgive me for disguising insults as compliments, but I\\'ll give credit to Berkowitz for having the skills to convince some idiot to finance this horrid piece of ****. I appreciate the boundaries & intentions of the film here, but even when regarding the standards Berkowitz sets for himself, he fires off and misses on all levels. In closing, I\\'m sure many of these female companions were not at ease going on a date with a twitchy wanna-be filmmaker, and therefore I question the film\\'s sense of authenticity. Hey Myles, I loved your film the first time I saw it... when it appeared as an episode of Seinfeld or was a film directed by Woody Allen or Kevin Smith.', 'label': 0, 'input_ids': [101, 2007, 2053, 16730, 2875, 2151, 2828, 1997, 24466, 1010, 1998, 1037, 7965, 12284, 1997, 15693, 1010, 1045, 2064, 9826, 2360, 1045, 2001, 4854, 2012, 2870, 2005, 17067, 2000, 4133, 2083, 1996, 2972, 3091, 1997, 1000, 2322, 5246, 1000, 1012, 1045, 2180, 1005, 1056, 5949, 2115, 2051, 2007, 1996, 5436, 1010, 2017, 2089, 3191, 2060, 4391, 1012, 1045, 2097, 2360, 2295, 2008, 2022, 8024, 5004, 8838, 1005, 1055, 23760, 1010, 13703, 5297, 1011, 2806, 21283, 2001, 5186, 15703, 1012, 2017, 2593, 6257, 2002, 1005, 1040, 3913, 2125, 1996, 4157, 2030, 13749, 4355, 2070, 25283, 26147, 17629, 2015, 1012, 1998, 2009, 1005, 1055, 9280, 6835, 2000, 2022, 8024, 5004, 8838, 2370, 2008, 2023, 2143, 2001, 1037, 2919, 2801, 1010, 2004, 3033, 1997, 2009, 4751, 2010, 7012, 2000, 5446, 1996, 4516, 1012, 9641, 2033, 2005, 4487, 28745, 28580, 23862, 2004, 19394, 2015, 1010, 2021, 1045, 1005, 2222, 2507, 4923, 2000, 2022, 8024, 5004, 8838, 2005, 2383, 1996, 4813, 2000, 8054, 2070, 10041, 2000, 5446, 2023, 7570, 18752, 2094, 3538, 1997, 1008, 1008, 1008, 1008, 1012, 1045, 9120, 1996, 7372, 1004, 11174, 1997, 1996, 2143, 2182, 1010, 2021, 2130, 2043, 4953, 1996, 4781, 2022, 8024, 5004, 8838, 4520, 2005, 2370, 1010, 2002, 8769, 2125, 1998, 22182, 2006, 2035, 3798, 1012, 1999, 5494, 1010, 1045, 1005, 1049, 2469, 2116, 1997, 2122, 2931, 11946, 2020, 2025, 2012, 7496, 2183, 2006, 1037, 3058, 2007, 1037, 19435, 2100, 10587, 1011, 2022, 12127, 1010, 1998, 3568, 1045, 3160, 1996, 2143, 1005, 1055, 3168, 1997, 21452, 1012, 4931, 27056, 1010, 1045, 3866, 2115, 2143, 1996, 2034, 2051, 1045, 2387, 2009, 1012, 1012, 1012, 2043, 2009, 2596, 2004, 2019, 2792, 1997, 7367, 2378, 8151, 2030, 2001, 1037, 2143, 2856, 2011, 13703, 5297, 2030, 4901, 3044, 1012, 102, 0, 0, 0, 0, 0, 0, 0, 0, 0, 0, 0, 0, 0, 0, 0, 0, 0, 0, 0, 0, 0, 0, 0, 0, 0, 0, 0, 0, 0, 0, 0, 0, 0, 0, 0, 0, 0, 0, 0, 0, 0, 0, 0, 0, 0, 0, 0, 0, 0, 0, 0, 0, 0, 0, 0, 0, 0, 0, 0, 0, 0, 0, 0, 0, 0, 0, 0, 0, 0, 0, 0, 0, 0, 0, 0, 0, 0, 0, 0, 0, 0, 0, 0, 0, 0, 0, 0, 0, 0, 0, 0, 0, 0, 0, 0, 0, 0, 0, 0, 0, 0, 0, 0, 0, 0, 0, 0, 0, 0, 0, 0, 0, 0, 0, 0, 0, 0, 0, 0, 0, 0, 0, 0, 0, 0, 0, 0, 0, 0, 0, 0, 0, 0, 0, 0, 0, 0, 0, 0, 0, 0, 0, 0, 0, 0, 0, 0, 0, 0, 0, 0, 0, 0, 0, 0, 0, 0, 0, 0, 0, 0, 0, 0, 0, 0, 0, 0, 0, 0, 0, 0, 0, 0, 0, 0, 0, 0, 0, 0, 0, 0, 0, 0, 0, 0, 0, 0, 0, 0, 0, 0, 0, 0, 0, 0, 0, 0, 0, 0, 0, 0, 0, 0, 0, 0, 0, 0, 0, 0, 0, 0, 0, 0, 0, 0, 0, 0, 0, 0, 0, 0, 0, 0, 0, 0], 'attention_mask': [1, 1, 1, 1, 1, 1, 1, 1, 1, 1, 1, 1, 1, 1, 1, 1, 1, 1, 1, 1, 1, 1, 1, 1, 1, 1, 1, 1, 1, 1, 1, 1, 1, 1, 1, 1, 1, 1, 1, 1, 1, 1, 1, 1, 1, 1, 1, 1, 1, 1, 1, 1, 1, 1, 1, 1, 1, 1, 1, 1, 1, 1, 1, 1, 1, 1, 1, 1, 1, 1, 1, 1, 1, 1, 1, 1, 1, 1, 1, 1, 1, 1, 1, 1, 1, 1, 1, 1, 1, 1, 1, 1, 1, 1, 1, 1, 1, 1, 1, 1, 1, 1, 1, 1, 1, 1, 1, 1, 1, 1, 1, 1, 1, 1, 1, 1, 1, 1, 1, 1, 1, 1, 1, 1, 1, 1, 1, 1, 1, 1, 1, 1, 1, 1, 1, 1, 1, 1, 1, 1, 1, 1, 1, 1, 1, 1, 1, 1, 1, 1, 1, 1, 1, 1, 1, 1, 1, 1, 1, 1, 1, 1, 1, 1, 1, 1, 1, 1, 1, 1, 1, 1, 1, 1, 1, 1, 1, 1, 1, 1, 1, 1, 1, 1, 1, 1, 1, 1, 1, 1, 1, 1, 1, 1, 1, 1, 1, 1, 1, 1, 1, 1, 1, 1, 1, 1, 1, 1, 1, 1, 1, 1, 1, 1, 1, 1, 1, 1, 1, 1, 1, 1, 1, 1, 1, 1, 1, 1, 1, 1, 1, 1, 1, 1, 1, 1, 1, 1, 1, 1, 1, 1, 1, 1, 1, 1, 1, 1, 1, 1, 1, 1, 1, 1, 1, 1, 1, 1, 1, 1, 1, 1, 1, 1, 1, 1, 1, 1, 1, 1, 1, 1, 1, 1, 1, 1, 1, 1, 1, 1, 1, 1, 1, 1, 1, 1, 1, 0, 0, 0, 0, 0, 0, 0, 0, 0, 0, 0, 0, 0, 0, 0, 0, 0, 0, 0, 0, 0, 0, 0, 0, 0, 0, 0, 0, 0, 0, 0, 0, 0, 0, 0, 0, 0, 0, 0, 0, 0, 0, 0, 0, 0, 0, 0, 0, 0, 0, 0, 0, 0, 0, 0, 0, 0, 0, 0, 0, 0, 0, 0, 0, 0, 0, 0, 0, 0, 0, 0, 0, 0, 0, 0, 0, 0, 0, 0, 0, 0, 0, 0, 0, 0, 0, 0, 0, 0, 0, 0, 0, 0, 0, 0, 0, 0, 0, 0, 0, 0, 0, 0, 0, 0, 0, 0, 0, 0, 0, 0, 0, 0, 0, 0, 0, 0, 0, 0, 0, 0, 0, 0, 0, 0, 0, 0, 0, 0, 0, 0, 0, 0, 0, 0, 0, 0, 0, 0, 0, 0, 0, 0, 0, 0, 0, 0, 0, 0, 0, 0, 0, 0, 0, 0, 0, 0, 0, 0, 0, 0, 0, 0, 0, 0, 0, 0, 0, 0, 0, 0, 0, 0, 0, 0, 0, 0, 0, 0, 0, 0, 0, 0, 0, 0, 0, 0, 0, 0, 0, 0, 0, 0, 0, 0, 0, 0, 0, 0, 0, 0, 0, 0, 0, 0, 0, 0, 0, 0, 0, 0, 0, 0, 0, 0, 0, 0, 0, 0, 0, 0, 0, 0, 0, 0]}\n"
          ]
        }
      ],
      "source": [
        "print(small_tokenized_train[49])"
      ]
    },
    {
      "cell_type": "markdown",
      "metadata": {
        "id": "6a772a0c-4f52-4497-9f17-989eade98f53"
      },
      "source": [
        "The following defines the `compute_metrics` funcion to evaluate model performance using accuracy:\n"
      ]
    },
    {
      "cell_type": "code",
      "execution_count": null,
      "metadata": {
        "id": "fff0896d-f29f-4d4b-ba63-9114c77b3984"
      },
      "outputs": [],
      "source": [
        "def compute_metrics(eval_pred):\n",
        "   load_accuracy = load_metric(\"accuracy\", trust_remote_code=True)\n",
        "\n",
        "\n",
        "   logits, labels = eval_pred\n",
        "   predictions = np.argmax(logits, axis=-1)\n",
        "   accuracy = load_accuracy.compute(predictions=predictions, references=labels)[\"accuracy\"]\n",
        "\n",
        "   return {\"accuracy\": accuracy}\n"
      ]
    },
    {
      "cell_type": "markdown",
      "metadata": {
        "id": "7ef6318f-9ac8-4173-883c-86b79da2f134"
      },
      "source": [
        "---\n"
      ]
    },
    {
      "cell_type": "markdown",
      "metadata": {
        "id": "e5a6ae5e-5321-4c9f-af96-454b64e5dd8b"
      },
      "source": [
        "# Configure BitsAndBytes\n"
      ]
    },
    {
      "cell_type": "markdown",
      "metadata": {
        "id": "d987c117-9857-4391-a40b-48491eb7a561"
      },
      "source": [
        "The following code creates a `BitsAndBytes` config object where we define the quantization parameters. Every line in that config is commented to inform you of its function:\n"
      ]
    },
    {
      "cell_type": "code",
      "execution_count": null,
      "metadata": {
        "id": "fe4c727e-966b-42d2-aabe-310a3703db0d"
      },
      "outputs": [],
      "source": [
        "config_bnb = BitsAndBytesConfig(\n",
        "    load_in_4bit=True, # quantize the model to 4-bits when you load it\n",
        "    bnb_4bit_quant_type=\"nf4\", # use a special 4-bit data type for weights initialized from a normal distribution\n",
        "    bnb_4bit_use_double_quant=True, # nested quantization scheme to quantize the already quantized weights\n",
        "    bnb_4bit_compute_dtype=torch.bfloat16, # use bfloat16 for faster computation\n",
        "    llm_int8_skip_modules=[\"classifier\", \"pre_classifier\"] #  Don't convert the \"classifier\" and \"pre_classifier\" layers to 8-bit\n",
        ")"
      ]
    },
    {
      "cell_type": "markdown",
      "metadata": {
        "id": "e4802df2-feb2-4bb8-a60f-b502171bb877"
      },
      "source": [
        "# Load a quantized version of a pretrained model\n"
      ]
    },
    {
      "cell_type": "markdown",
      "metadata": {
        "id": "de852c2e-d067-432b-9ed9-b6f482f4d36d"
      },
      "source": [
        "The following code creates two lists. The first list (`id2label`) maps ids to text labels for the two classes in this problem, and the second list (`label2id`) swaps the keys and the values to map the text labels to the ids:\n"
      ]
    },
    {
      "cell_type": "code",
      "execution_count": null,
      "metadata": {
        "id": "67e377d2-28cb-4864-8648-d1392efa3046"
      },
      "outputs": [],
      "source": [
        "id2label = {0: \"NEGATIVE\", 1: \"POSITIVE\"}\n",
        "label2id = dict((v,k) for k,v in id2label.items())"
      ]
    },
    {
      "cell_type": "markdown",
      "metadata": {
        "id": "6fc12f29-95da-49cd-b5fa-0b991aa44d76"
      },
      "source": [
        "The following instantiates an `AutoModelForSequenceClassification` from a pre-trained `distilbert-base-uncased` model using the `BitsAndBytesConfig` defined above and the id to label and label to id mappings. The `quantization_config` parameter in particular indicates that a quantized version of the model should be loaded, with the quantization settings contained in the config object passed to `quantization_config`\n"
      ]
    },
    {
      "cell_type": "code",
      "execution_count": null,
      "metadata": {
        "colab": {
          "base_uri": "https://localhost:8080/"
        },
        "id": "9e4cff39-6adc-48ed-84a0-53daacad0f0f",
        "outputId": "ab5c62b4-3170-433d-c18e-cbcadfedd1f4"
      },
      "outputs": [
        {
          "name": "stderr",
          "output_type": "stream",
          "text": [
            "Some weights of DistilBertForSequenceClassification were not initialized from the model checkpoint at distilbert-base-uncased and are newly initialized: ['classifier.bias', 'classifier.weight', 'pre_classifier.bias', 'pre_classifier.weight']\n",
            "You should probably TRAIN this model on a down-stream task to be able to use it for predictions and inference.\n"
          ]
        }
      ],
      "source": [
        "model_qlora = AutoModelForSequenceClassification.from_pretrained(\"distilbert-base-uncased\",\n",
        "                                                                 id2label=id2label,\n",
        "                                                                 label2id=label2id,\n",
        "                                                                 num_labels=2,\n",
        "                                                                 quantization_config=config_bnb\n",
        "                                                                )"
      ]
    },
    {
      "cell_type": "code",
      "execution_count": null,
      "metadata": {
        "colab": {
          "base_uri": "https://localhost:8080/"
        },
        "id": "f23c6f1a",
        "outputId": "5c93da2a-3597-4e12-8d6f-7e09a02319a5"
      },
      "outputs": [
        {
          "name": "stdout",
          "output_type": "stream",
          "text": [
            "CUDA-enabled GPU is available.\n",
            "GPU Name: Tesla T4\n"
          ]
        }
      ],
      "source": [
        "import torch\n",
        "\n",
        "if torch.cuda.is_available():\n",
        "    print(\"CUDA-enabled GPU is available.\")\n",
        "    print(f\"GPU Name: {torch.cuda.get_device_name(0)}\")\n",
        "else:\n",
        "    print(\"No CUDA-enabled GPU is available. Please change your runtime type to GPU.\")"
      ]
    },
    {
      "cell_type": "code",
      "execution_count": null,
      "metadata": {
        "colab": {
          "base_uri": "https://localhost:8080/"
        },
        "id": "00fbe707",
        "outputId": "9b131423-2e37-4a94-e285-9565e2575378"
      },
      "outputs": [
        {
          "name": "stderr",
          "output_type": "stream",
          "text": [
            "Some weights of DistilBertForSequenceClassification were not initialized from the model checkpoint at distilbert-base-uncased and are newly initialized: ['classifier.bias', 'classifier.weight', 'pre_classifier.bias', 'pre_classifier.weight']\n",
            "You should probably TRAIN this model on a down-stream task to be able to use it for predictions and inference.\n"
          ]
        }
      ],
      "source": [
        "model_qlora = AutoModelForSequenceClassification.from_pretrained(\"distilbert-base-uncased\",\n",
        "                                                                 id2label=id2label,\n",
        "                                                                 label2id=label2id,\n",
        "                                                                 num_labels=2,\n",
        "                                                                 quantization_config=config_bnb\n",
        "                                                                )"
      ]
    },
    {
      "cell_type": "markdown",
      "metadata": {
        "id": "2f7b3f87-d96a-4d08-8d7b-5de0164ac8e2"
      },
      "source": [
        "`model_qlora` is now a quantized instance of the model, but the model is not ready for quantized training just yet. This is accomplished by passing the model through the `prepare_model_for_kbit_training()` function:\n"
      ]
    },
    {
      "cell_type": "code",
      "execution_count": null,
      "metadata": {
        "id": "531cc0b3-1e31-479b-8c69-3ad16751d5f4"
      },
      "outputs": [],
      "source": [
        "model_qlora = prepare_model_for_kbit_training(model_qlora)"
      ]
    },
    {
      "cell_type": "markdown",
      "metadata": {
        "id": "fecd7a1d-e1a5-4181-b9f4-f70816f55a99"
      },
      "source": [
        "Despite its name, `model_qlora` is not a LoRA or QLoRA object yet, but a quantized instance of a pre-trained `distilbert-base-uncased` model that has been made ready for quantized training. To allow this model to be fine-tuned using QLoRA, we must convert the linear layers into LoRA layers. This is done analogously to the way LoRA is applied to a non-quantized model:\n"
      ]
    },
    {
      "cell_type": "code",
      "execution_count": null,
      "metadata": {
        "id": "73ae922b-5941-4012-bf61-b974811cb79e"
      },
      "outputs": [],
      "source": [
        "lora_config = LoraConfig(\n",
        "    task_type=TaskType.SEQ_CLS,  # Specify the task type as sequence classification\n",
        "    r=8,  # Rank of the low-rank matrices\n",
        "    lora_alpha=16,  # Scaling factor\n",
        "    lora_dropout=0.1,  # Dropout rate\n",
        "    target_modules=['q_lin','k_lin','v_lin'] # which modules\n",
        ")\n",
        "\n",
        "peft_model_qlora = get_peft_model(model_qlora, lora_config)"
      ]
    },
    {
      "cell_type": "markdown",
      "metadata": {
        "id": "058a4ca5-3e04-48a6-8b2f-7a16d1e4e337"
      },
      "source": [
        "`peft_model_qlora` is now a QLoRA model which we can go ahead and train. However, before doing so, we will perform one other optimization: we will reinitialize the LoRA weights using LoftQ, which has been shown to improve performance when training quantized models. You can find information about LoftQ [here](https://arxiv.org/abs/2310.08659).\n"
      ]
    },
    {
      "cell_type": "code",
      "execution_count": null,
      "metadata": {
        "id": "8566e7a3-f731-4b0d-9ac3-e97ea1811c19"
      },
      "outputs": [],
      "source": [
        "replace_lora_weights_loftq(peft_model_qlora)"
      ]
    },
    {
      "cell_type": "markdown",
      "metadata": {
        "id": "53494369-2dc0-4d3d-8c11-59269149b740"
      },
      "source": [
        "Let's print out the model summary:\n"
      ]
    },
    {
      "cell_type": "code",
      "execution_count": null,
      "metadata": {
        "colab": {
          "base_uri": "https://localhost:8080/"
        },
        "id": "12a8cbd0-940e-43a5-98c6-ca51f62e250c",
        "outputId": "c3b0bddc-feac-414e-bdd7-77b59fb9f603"
      },
      "outputs": [
        {
          "name": "stdout",
          "output_type": "stream",
          "text": [
            "PeftModelForSequenceClassification(\n",
            "  (base_model): LoraModel(\n",
            "    (model): DistilBertForSequenceClassification(\n",
            "      (distilbert): DistilBertModel(\n",
            "        (embeddings): Embeddings(\n",
            "          (word_embeddings): Embedding(30522, 768, padding_idx=0)\n",
            "          (position_embeddings): Embedding(512, 768)\n",
            "          (LayerNorm): LayerNorm((768,), eps=1e-12, elementwise_affine=True)\n",
            "          (dropout): Dropout(p=0.1, inplace=False)\n",
            "        )\n",
            "        (transformer): Transformer(\n",
            "          (layer): ModuleList(\n",
            "            (0-5): 6 x TransformerBlock(\n",
            "              (attention): DistilBertSdpaAttention(\n",
            "                (dropout): Dropout(p=0.1, inplace=False)\n",
            "                (q_lin): lora.Linear4bit(\n",
            "                  (base_layer): Linear4bit(in_features=768, out_features=768, bias=True)\n",
            "                  (lora_dropout): ModuleDict(\n",
            "                    (default): Dropout(p=0.1, inplace=False)\n",
            "                  )\n",
            "                  (lora_A): ModuleDict(\n",
            "                    (default): Linear(in_features=768, out_features=8, bias=False)\n",
            "                  )\n",
            "                  (lora_B): ModuleDict(\n",
            "                    (default): Linear(in_features=8, out_features=768, bias=False)\n",
            "                  )\n",
            "                  (lora_embedding_A): ParameterDict()\n",
            "                  (lora_embedding_B): ParameterDict()\n",
            "                )\n",
            "                (k_lin): lora.Linear4bit(\n",
            "                  (base_layer): Linear4bit(in_features=768, out_features=768, bias=True)\n",
            "                  (lora_dropout): ModuleDict(\n",
            "                    (default): Dropout(p=0.1, inplace=False)\n",
            "                  )\n",
            "                  (lora_A): ModuleDict(\n",
            "                    (default): Linear(in_features=768, out_features=8, bias=False)\n",
            "                  )\n",
            "                  (lora_B): ModuleDict(\n",
            "                    (default): Linear(in_features=8, out_features=768, bias=False)\n",
            "                  )\n",
            "                  (lora_embedding_A): ParameterDict()\n",
            "                  (lora_embedding_B): ParameterDict()\n",
            "                )\n",
            "                (v_lin): lora.Linear4bit(\n",
            "                  (base_layer): Linear4bit(in_features=768, out_features=768, bias=True)\n",
            "                  (lora_dropout): ModuleDict(\n",
            "                    (default): Dropout(p=0.1, inplace=False)\n",
            "                  )\n",
            "                  (lora_A): ModuleDict(\n",
            "                    (default): Linear(in_features=768, out_features=8, bias=False)\n",
            "                  )\n",
            "                  (lora_B): ModuleDict(\n",
            "                    (default): Linear(in_features=8, out_features=768, bias=False)\n",
            "                  )\n",
            "                  (lora_embedding_A): ParameterDict()\n",
            "                  (lora_embedding_B): ParameterDict()\n",
            "                )\n",
            "                (out_lin): Linear4bit(in_features=768, out_features=768, bias=True)\n",
            "              )\n",
            "              (sa_layer_norm): LayerNorm((768,), eps=1e-12, elementwise_affine=True)\n",
            "              (ffn): FFN(\n",
            "                (dropout): Dropout(p=0.1, inplace=False)\n",
            "                (lin1): Linear4bit(in_features=768, out_features=3072, bias=True)\n",
            "                (lin2): Linear4bit(in_features=3072, out_features=768, bias=True)\n",
            "                (activation): GELUActivation()\n",
            "              )\n",
            "              (output_layer_norm): LayerNorm((768,), eps=1e-12, elementwise_affine=True)\n",
            "            )\n",
            "          )\n",
            "        )\n",
            "      )\n",
            "      (pre_classifier): ModulesToSaveWrapper(\n",
            "        (original_module): Linear(in_features=768, out_features=768, bias=True)\n",
            "        (modules_to_save): ModuleDict(\n",
            "          (default): Linear(in_features=768, out_features=768, bias=True)\n",
            "        )\n",
            "      )\n",
            "      (classifier): ModulesToSaveWrapper(\n",
            "        (original_module): Linear(in_features=768, out_features=2, bias=True)\n",
            "        (modules_to_save): ModuleDict(\n",
            "          (default): Linear(in_features=768, out_features=2, bias=True)\n",
            "        )\n",
            "      )\n",
            "      (dropout): Dropout(p=0.2, inplace=False)\n",
            "    )\n",
            "  )\n",
            ")\n"
          ]
        }
      ],
      "source": [
        "print(peft_model_qlora)"
      ]
    },
    {
      "cell_type": "markdown",
      "metadata": {
        "id": "1b7a05cf-b78b-4bea-a348-810239ba5cd4"
      },
      "source": [
        "As you can see, the `distilbert-base-uncased` model adapted for QLoRA fine-tuning has a similar structure to the non-quantized LoRA model derived from `distilbert-base-uncased`. The key difference in the structure's summary is the conversion of some of the `Linear` layers into `Linear4bit` layers, which are 4-bit linear layers that use blockwise k-bit quantization under the hood.\n"
      ]
    },
    {
      "cell_type": "code",
      "execution_count": null,
      "metadata": {
        "colab": {
          "base_uri": "https://localhost:8080/"
        },
        "id": "ab1e38c3-6b3c-4be0-a27b-321c36a08347",
        "outputId": "55f965e9-e9dc-4958-f057-e6619d0ecca3"
      },
      "outputs": [
        {
          "name": "stdout",
          "output_type": "stream",
          "text": [
            "trainable params: 813,314 || all params: 67,768,324 || trainable%: 1.2001\n"
          ]
        }
      ],
      "source": [
        "peft_model_qlora.print_trainable_parameters()"
      ]
    },
    {
      "cell_type": "markdown",
      "metadata": {
        "id": "cd370324-e7ff-469b-b7dc-9b40e450adeb"
      },
      "source": [
        "As can be seen above, fine-tuning the `distilbert-base-uncased` model using QLoRA with a rank of 8 results in just 1.2% of the resulting parameters being trainable.\n"
      ]
    },
    {
      "cell_type": "markdown",
      "metadata": {
        "id": "ba2583f2-0fcd-466e-8326-b143c64aebc1"
      },
      "source": [
        "# Train\n"
      ]
    },
    {
      "cell_type": "markdown",
      "metadata": {
        "id": "65fa7217-4948-4126-8dee-16ca22a95d4f"
      },
      "source": [
        "Fine-tuning the QLoRA model from this point on is identical to fine-tuning a LoRA model. First, define the training arguments:\n"
      ]
    },
    {
      "cell_type": "code",
      "execution_count": null,
      "metadata": {
        "id": "e7ae57a9-541e-4280-ac0a-deb00a32e3ea"
      },
      "outputs": [],
      "source": [
        "training_args = TrainingArguments(\n",
        "    output_dir=\"./results_qlora\",\n",
        "    num_train_epochs=10,\n",
        "    per_device_train_batch_size=16,\n",
        "    per_device_eval_batch_size=64,\n",
        "    learning_rate=2e-5,\n",
        "    eval_strategy=\"epoch\",\n",
        "    weight_decay=0.01,\n",
        "    report_to=\"none\" # otherwise wandb\n",
        ")"
      ]
    },
    {
      "cell_type": "markdown",
      "metadata": {
        "id": "ee14eeaf-fb3f-4a9f-8728-441841f9343d"
      },
      "source": [
        "Then, train the model using `Trainer`:\n"
      ]
    },
    {
      "cell_type": "code",
      "execution_count": null,
      "metadata": {
        "colab": {
          "base_uri": "https://localhost:8080/",
          "height": 440,
        },
        "id": "1cf355ca-0518-4001-9863-499606b9f480",
        "outputId": "e3478ae8-4645-43e6-8548-4dc1eeab1363"
      },
      "outputs": [],
      "source": [
        "trainer_qlora = Trainer(\n",
        "    model=peft_model_qlora,\n",
        "    args=training_args,\n",
        "    train_dataset=medium_tokenized_train,\n",
        "    eval_dataset=medium_tokenized_test,\n",
        "    tokenizer=tokenizer,\n",
        "    compute_metrics=compute_metrics)\n",
        "\n",
        "\n",
        "trainer_qlora.train()"
      ]
    },
    {
      "cell_type": "markdown",
      "metadata": {
        "id": "0b451367-2393-49ac-a36b-7a43cd791f48"
      },
      "source": [
        "As you can see, training the 1.2% of parameters on a V100 takes just under 10 minutes and results in a validation accuracy of 84.3%. This is comparable to the accuracy we can expect to get from LoRA.\n"
      ]
    },
    {
      "cell_type": "markdown",
      "metadata": {
        "id": "609d6cec-eff7-4ce4-8cc6-1476f88f2593"
      },
      "source": [
        "You can save a trained QLoRA model using the following:\n"
      ]
    },
    {
      "cell_type": "code",
      "execution_count": null,
      "metadata": {
        "id": "79fdc154-f0c5-4331-9a08-6835342a0c50"
      },
      "outputs": [],
      "source": [
        "trainer_qlora.save_model(\"./qlora_final_model\")"
      ]
    },
    {
      "cell_type": "markdown",
      "metadata": {
        "id": "d559cc44-43d8-4102-af62-9d389bec4a5a"
      },
      "source": [
        "# Results\n"
      ]
    },
    {
      "cell_type": "markdown",
      "metadata": {
        "id": "3fea93c6-57c1-4b66-b35b-6e0394b9032a"
      },
      "source": [
        "To analyze how training progresses with each epoch, you can also extract the log history:\n"
      ]
    },
    {
      "cell_type": "code",
      "execution_count": null,
      "metadata": {
        "id": "60506207-f39a-4c38-8980-415ace1e04d3"
      },
      "outputs": [],
      "source": [
        "log_history_qlora = trainer_qlora.state.log_history"
      ]
    },
    {
      "cell_type": "markdown",
      "metadata": {
        "id": "5af8ed18-d513-4a3f-a6fd-131c87709afc"
      },
      "source": [
        "This log history can be used to calculate our accuracy metric using the following `lambda` function:\n"
      ]
    },
    {
      "cell_type": "code",
      "execution_count": null,
      "metadata": {
        "id": "b503395b-4ef8-4850-905b-2d9513e7b402"
      },
      "outputs": [],
      "source": [
        "get_metric_qlora = lambda metric, log_history_qlora: [log[metric] for log in log_history_qlora if metric in log]"
      ]
    },
    {
      "cell_type": "markdown",
      "metadata": {
        "id": "bd7bb9af-45ea-4a82-b6c9-9a98a27767ab"
      },
      "source": [
        "And this function can, in turn, be used to plot what happens to the evaluation loss and accuracy during training:\n"
      ]
    },
    {
      "cell_type": "code",
      "execution_count": null,
      "metadata": {
        "colab": {
          "base_uri": "https://localhost:8080/",
          "height": 466
        },
        "id": "f7fc3387-acc5-4539-82dc-216c345e375c",
        "outputId": "636ee447-ff20-4ceb-ef42-91ee458694c0"
      },
      "outputs": [
        {
          "data": {
            "text/plain": [
              "<matplotlib.legend.Legend at 0x7ea579d53350>"
            ]
          },
          "execution_count": 34,
          "metadata": {},
          "output_type": "execute_result"
        },
        {
          "data": {
            "image/png": "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",
            "text/plain": [
              "<Figure size 640x480 with 1 Axes>"
            ]
          },
          "metadata": {},
          "output_type": "display_data"
        }
      ],
      "source": [
        "eval_accuracy_qlora=get_metric_qlora('eval_accuracy',log_history_qlora)\n",
        "eval_loss_qlora=get_metric_qlora('eval_loss',log_history_qlora)\n",
        "plt.plot(eval_accuracy_qlora,label='eval_accuracy')\n",
        "plt.plot(eval_loss_qlora,label='eval_loss')\n",
        "plt.xlabel(\"epoch\")\n",
        "plt.legend()"
      ]
    },
    {
      "cell_type": "markdown",
      "metadata": {
        "id": "16ed79ea-fb3b-4e27-9178-3849cb168bd3"
      },
      "source": [
        "The above code indicates that, in this particular instance, the bulk of the benefits from fine-tuning were gained within the first 3 epochs.\n"
      ]
    }
  ],
  "metadata": {
    "accelerator": "GPU",
    "colab": {
      "gpuType": "T4",
      "include_colab_link": true,
      "provenance": []
    },
    "kernelspec": {
      "display_name": "Python (Pyodide)",
      "language": "python",
      "name": "python"
    },
    "language_info": {
      "codemirror_mode": {
        "name": "python",
        "version": 3
      },
      "file_extension": ".py",
      "mimetype": "text/x-python",
      "name": "python",
      "nbconvert_exporter": "python",
      "pygments_lexer": "ipython3",
      "version": "3.8"
    },
    "prev_pub_hash": "856043195c4f7d96c767c084082c1b6e5e7de2222404f63f3e209d4961071444",
    "widgets": {
      "application/vnd.jupyter.widget-state+json": {
        "03accc8cb590445da62df66b875b1c18": {
          "model_module": "@jupyter-widgets/controls",
          "model_module_version": "1.5.0",
          "model_name": "DescriptionStyleModel",
          "state": {
            "_model_module": "@jupyter-widgets/controls",
            "_model_module_version": "1.5.0",
            "_model_name": "DescriptionStyleModel",
            "_view_count": null,
            "_view_module": "@jupyter-widgets/base",
            "_view_module_version": "1.2.0",
            "_view_name": "StyleView",
            "description_width": ""
          }
        },
        "1de64c64cfa24e61b2af37cc3ee3af5f": {
          "model_module": "@jupyter-widgets/controls",
          "model_module_version": "1.5.0",
          "model_name": "DescriptionStyleModel",
          "state": {
            "_model_module": "@jupyter-widgets/controls",
            "_model_module_version": "1.5.0",
            "_model_name": "DescriptionStyleModel",
            "_view_count": null,
            "_view_module": "@jupyter-widgets/base",
            "_view_module_version": "1.2.0",
            "_view_name": "StyleView",
            "description_width": ""
          }
        },
        "292af18a56234cd4bd39c96c283527c9": {
          "model_module": "@jupyter-widgets/base",
          "model_module_version": "1.2.0",
          "model_name": "LayoutModel",
          "state": {
            "_model_module": "@jupyter-widgets/base",
            "_model_module_version": "1.2.0",
            "_model_name": "LayoutModel",
            "_view_count": null,
            "_view_module": "@jupyter-widgets/base",
            "_view_module_version": "1.2.0",
            "_view_name": "LayoutView",
            "align_content": null,
            "align_items": null,
            "align_self": null,
            "border": null,
            "bottom": null,
            "display": null,
            "flex": null,
            "flex_flow": null,
            "grid_area": null,
            "grid_auto_columns": null,
            "grid_auto_flow": null,
            "grid_auto_rows": null,
            "grid_column": null,
            "grid_gap": null,
            "grid_row": null,
            "grid_template_areas": null,
            "grid_template_columns": null,
            "grid_template_rows": null,
            "height": null,
            "justify_content": null,
            "justify_items": null,
            "left": null,
            "margin": null,
            "max_height": null,
            "max_width": null,
            "min_height": null,
            "min_width": null,
            "object_fit": null,
            "object_position": null,
            "order": null,
            "overflow": null,
            "overflow_x": null,
            "overflow_y": null,
            "padding": null,
            "right": null,
            "top": null,
            "visibility": null,
            "width": null
          }
        },
        "2e0376c45e4146d2a90aded8667aaefc": {
          "model_module": "@jupyter-widgets/base",
          "model_module_version": "1.2.0",
          "model_name": "LayoutModel",
          "state": {
            "_model_module": "@jupyter-widgets/base",
            "_model_module_version": "1.2.0",
            "_model_name": "LayoutModel",
            "_view_count": null,
            "_view_module": "@jupyter-widgets/base",
            "_view_module_version": "1.2.0",
            "_view_name": "LayoutView",
            "align_content": null,
            "align_items": null,
            "align_self": null,
            "border": null,
            "bottom": null,
            "display": null,
            "flex": null,
            "flex_flow": null,
            "grid_area": null,
            "grid_auto_columns": null,
            "grid_auto_flow": null,
            "grid_auto_rows": null,
            "grid_column": null,
            "grid_gap": null,
            "grid_row": null,
            "grid_template_areas": null,
            "grid_template_columns": null,
            "grid_template_rows": null,
            "height": null,
            "justify_content": null,
            "justify_items": null,
            "left": null,
            "margin": null,
            "max_height": null,
            "max_width": null,
            "min_height": null,
            "min_width": null,
            "object_fit": null,
            "object_position": null,
            "order": null,
            "overflow": null,
            "overflow_x": null,
            "overflow_y": null,
            "padding": null,
            "right": null,
            "top": null,
            "visibility": null,
            "width": null
          }
        },
        "31097c5cb54d404ba0d6bf6995821be0": {
          "model_module": "@jupyter-widgets/controls",
          "model_module_version": "1.5.0",
          "model_name": "HBoxModel",
          "state": {
            "_dom_classes": [],
            "_model_module": "@jupyter-widgets/controls",
            "_model_module_version": "1.5.0",
            "_model_name": "HBoxModel",
            "_view_count": null,
            "_view_module": "@jupyter-widgets/controls",
            "_view_module_version": "1.5.0",
            "_view_name": "HBoxView",
            "box_style": "",
            "children": [
              "IPY_MODEL_6d296e774e954149b63ea3dafae65235",
              "IPY_MODEL_e06e3eab74a247a0974bd40bbbcc248a",
              "IPY_MODEL_9d7e245ee4704ef0bca4f576959562f6"
            ],
            "layout": "IPY_MODEL_aa3c3bc49f5743f094f7d21628ef2d7f"
          }
        },
        "3977260e71024a46a8450f4430cf1f3d": {
          "model_module": "@jupyter-widgets/controls",
          "model_module_version": "1.5.0",
          "model_name": "HTMLModel",
          "state": {
            "_dom_classes": [],
            "_model_module": "@jupyter-widgets/controls",
            "_model_module_version": "1.5.0",
            "_model_name": "HTMLModel",
            "_view_count": null,
            "_view_module": "@jupyter-widgets/controls",
            "_view_module_version": "1.5.0",
            "_view_name": "HTMLView",
            "description": "",
            "description_tooltip": null,
            "layout": "IPY_MODEL_569fa37c32b3481a80a7e73ee6a3a4a2",
            "placeholder": "​",
            "style": "IPY_MODEL_03accc8cb590445da62df66b875b1c18",
            "value": "Map: 100%"
          }
        },
        "39af8a3bc04643ee8a13e88dd4bd885f": {
          "model_module": "@jupyter-widgets/base",
          "model_module_version": "1.2.0",
          "model_name": "LayoutModel",
          "state": {
            "_model_module": "@jupyter-widgets/base",
            "_model_module_version": "1.2.0",
            "_model_name": "LayoutModel",
            "_view_count": null,
            "_view_module": "@jupyter-widgets/base",
            "_view_module_version": "1.2.0",
            "_view_name": "LayoutView",
            "align_content": null,
            "align_items": null,
            "align_self": null,
            "border": null,
            "bottom": null,
            "display": null,
            "flex": null,
            "flex_flow": null,
            "grid_area": null,
            "grid_auto_columns": null,
            "grid_auto_flow": null,
            "grid_auto_rows": null,
            "grid_column": null,
            "grid_gap": null,
            "grid_row": null,
            "grid_template_areas": null,
            "grid_template_columns": null,
            "grid_template_rows": null,
            "height": null,
            "justify_content": null,
            "justify_items": null,
            "left": null,
            "margin": null,
            "max_height": null,
            "max_width": null,
            "min_height": null,
            "min_width": null,
            "object_fit": null,
            "object_position": null,
            "order": null,
            "overflow": null,
            "overflow_x": null,
            "overflow_y": null,
            "padding": null,
            "right": null,
            "top": null,
            "visibility": null,
            "width": null
          }
        },
        "3c93719040b14ed2ab75839b3760d558": {
          "model_module": "@jupyter-widgets/base",
          "model_module_version": "1.2.0",
          "model_name": "LayoutModel",
          "state": {
            "_model_module": "@jupyter-widgets/base",
            "_model_module_version": "1.2.0",
            "_model_name": "LayoutModel",
            "_view_count": null,
            "_view_module": "@jupyter-widgets/base",
            "_view_module_version": "1.2.0",
            "_view_name": "LayoutView",
            "align_content": null,
            "align_items": null,
            "align_self": null,
            "border": null,
            "bottom": null,
            "display": null,
            "flex": null,
            "flex_flow": null,
            "grid_area": null,
            "grid_auto_columns": null,
            "grid_auto_flow": null,
            "grid_auto_rows": null,
            "grid_column": null,
            "grid_gap": null,
            "grid_row": null,
            "grid_template_areas": null,
            "grid_template_columns": null,
            "grid_template_rows": null,
            "height": null,
            "justify_content": null,
            "justify_items": null,
            "left": null,
            "margin": null,
            "max_height": null,
            "max_width": null,
            "min_height": null,
            "min_width": null,
            "object_fit": null,
            "object_position": null,
            "order": null,
            "overflow": null,
            "overflow_x": null,
            "overflow_y": null,
            "padding": null,
            "right": null,
            "top": null,
            "visibility": null,
            "width": null
          }
        },
        "4ab43b07cc3b475fb9a6ba4ec5a520c0": {
          "model_module": "@jupyter-widgets/controls",
          "model_module_version": "1.5.0",
          "model_name": "ProgressStyleModel",
          "state": {
            "_model_module": "@jupyter-widgets/controls",
            "_model_module_version": "1.5.0",
            "_model_name": "ProgressStyleModel",
            "_view_count": null,
            "_view_module": "@jupyter-widgets/base",
            "_view_module_version": "1.2.0",
            "_view_name": "StyleView",
            "bar_color": null,
            "description_width": ""
          }
        },
        "4ef34a6a26b74eb482c5b8f6aca5b024": {
          "model_module": "@jupyter-widgets/controls",
          "model_module_version": "1.5.0",
          "model_name": "HBoxModel",
          "state": {
            "_dom_classes": [],
            "_model_module": "@jupyter-widgets/controls",
            "_model_module_version": "1.5.0",
            "_model_name": "HBoxModel",
            "_view_count": null,
            "_view_module": "@jupyter-widgets/controls",
            "_view_module_version": "1.5.0",
            "_view_name": "HBoxView",
            "box_style": "",
            "children": [
              "IPY_MODEL_d9ed1c2df772409c95d0ad350e58520d",
              "IPY_MODEL_4fcf9340eb2f464a97b2c1dbad9c200f",
              "IPY_MODEL_6f0732393580473fa45b036c37a9154e"
            ],
            "layout": "IPY_MODEL_bd5177f62dd046e2ba2ab22150ea8214"
          }
        },
        "4fcf9340eb2f464a97b2c1dbad9c200f": {
          "model_module": "@jupyter-widgets/controls",
          "model_module_version": "1.5.0",
          "model_name": "FloatProgressModel",
          "state": {
            "_dom_classes": [],
            "_model_module": "@jupyter-widgets/controls",
            "_model_module_version": "1.5.0",
            "_model_name": "FloatProgressModel",
            "_view_count": null,
            "_view_module": "@jupyter-widgets/controls",
            "_view_module_version": "1.5.0",
            "_view_name": "ProgressView",
            "bar_style": "success",
            "description": "",
            "description_tooltip": null,
            "layout": "IPY_MODEL_afcf1c90954a4a339c9d42c5eab18afc",
            "max": 300,
            "min": 0,
            "orientation": "horizontal",
            "style": "IPY_MODEL_4ab43b07cc3b475fb9a6ba4ec5a520c0",
            "value": 300
          }
        },
        "53158961cfac4dd59eb01c306c9109c3": {
          "model_module": "@jupyter-widgets/controls",
          "model_module_version": "1.5.0",
          "model_name": "ProgressStyleModel",
          "state": {
            "_model_module": "@jupyter-widgets/controls",
            "_model_module_version": "1.5.0",
            "_model_name": "ProgressStyleModel",
            "_view_count": null,
            "_view_module": "@jupyter-widgets/base",
            "_view_module_version": "1.2.0",
            "_view_name": "StyleView",
            "bar_color": null,
            "description_width": ""
          }
        },
        "55491b5a10a94392ae0bde07a363fe8c": {
          "model_module": "@jupyter-widgets/controls",
          "model_module_version": "1.5.0",
          "model_name": "DescriptionStyleModel",
          "state": {
            "_model_module": "@jupyter-widgets/controls",
            "_model_module_version": "1.5.0",
            "_model_name": "DescriptionStyleModel",
            "_view_count": null,
            "_view_module": "@jupyter-widgets/base",
            "_view_module_version": "1.2.0",
            "_view_name": "StyleView",
            "description_width": ""
          }
        },
        "569fa37c32b3481a80a7e73ee6a3a4a2": {
          "model_module": "@jupyter-widgets/base",
          "model_module_version": "1.2.0",
          "model_name": "LayoutModel",
          "state": {
            "_model_module": "@jupyter-widgets/base",
            "_model_module_version": "1.2.0",
            "_model_name": "LayoutModel",
            "_view_count": null,
            "_view_module": "@jupyter-widgets/base",
            "_view_module_version": "1.2.0",
            "_view_name": "LayoutView",
            "align_content": null,
            "align_items": null,
            "align_self": null,
            "border": null,
            "bottom": null,
            "display": null,
            "flex": null,
            "flex_flow": null,
            "grid_area": null,
            "grid_auto_columns": null,
            "grid_auto_flow": null,
            "grid_auto_rows": null,
            "grid_column": null,
            "grid_gap": null,
            "grid_row": null,
            "grid_template_areas": null,
            "grid_template_columns": null,
            "grid_template_rows": null,
            "height": null,
            "justify_content": null,
            "justify_items": null,
            "left": null,
            "margin": null,
            "max_height": null,
            "max_width": null,
            "min_height": null,
            "min_width": null,
            "object_fit": null,
            "object_position": null,
            "order": null,
            "overflow": null,
            "overflow_x": null,
            "overflow_y": null,
            "padding": null,
            "right": null,
            "top": null,
            "visibility": null,
            "width": null
          }
        },
        "5864579ef8a24c9cb0ddd4d6c9d4974b": {
          "model_module": "@jupyter-widgets/base",
          "model_module_version": "1.2.0",
          "model_name": "LayoutModel",
          "state": {
            "_model_module": "@jupyter-widgets/base",
            "_model_module_version": "1.2.0",
            "_model_name": "LayoutModel",
            "_view_count": null,
            "_view_module": "@jupyter-widgets/base",
            "_view_module_version": "1.2.0",
            "_view_name": "LayoutView",
            "align_content": null,
            "align_items": null,
            "align_self": null,
            "border": null,
            "bottom": null,
            "display": null,
            "flex": null,
            "flex_flow": null,
            "grid_area": null,
            "grid_auto_columns": null,
            "grid_auto_flow": null,
            "grid_auto_rows": null,
            "grid_column": null,
            "grid_gap": null,
            "grid_row": null,
            "grid_template_areas": null,
            "grid_template_columns": null,
            "grid_template_rows": null,
            "height": null,
            "justify_content": null,
            "justify_items": null,
            "left": null,
            "margin": null,
            "max_height": null,
            "max_width": null,
            "min_height": null,
            "min_width": null,
            "object_fit": null,
            "object_position": null,
            "order": null,
            "overflow": null,
            "overflow_x": null,
            "overflow_y": null,
            "padding": null,
            "right": null,
            "top": null,
            "visibility": null,
            "width": null
          }
        },
        "5d8e380e9c7d4f248dd711bb7c1ce757": {
          "model_module": "@jupyter-widgets/controls",
          "model_module_version": "1.5.0",
          "model_name": "DescriptionStyleModel",
          "state": {
            "_model_module": "@jupyter-widgets/controls",
            "_model_module_version": "1.5.0",
            "_model_name": "DescriptionStyleModel",
            "_view_count": null,
            "_view_module": "@jupyter-widgets/base",
            "_view_module_version": "1.2.0",
            "_view_name": "StyleView",
            "description_width": ""
          }
        },
        "5e7167ba9fb84d3c8123214241d71f8c": {
          "model_module": "@jupyter-widgets/controls",
          "model_module_version": "1.5.0",
          "model_name": "DescriptionStyleModel",
          "state": {
            "_model_module": "@jupyter-widgets/controls",
            "_model_module_version": "1.5.0",
            "_model_name": "DescriptionStyleModel",
            "_view_count": null,
            "_view_module": "@jupyter-widgets/base",
            "_view_module_version": "1.2.0",
            "_view_name": "StyleView",
            "description_width": ""
          }
        },
        "6733d96b6c364c0394a43e2a9b432893": {
          "model_module": "@jupyter-widgets/controls",
          "model_module_version": "1.5.0",
          "model_name": "DescriptionStyleModel",
          "state": {
            "_model_module": "@jupyter-widgets/controls",
            "_model_module_version": "1.5.0",
            "_model_name": "DescriptionStyleModel",
            "_view_count": null,
            "_view_module": "@jupyter-widgets/base",
            "_view_module_version": "1.2.0",
            "_view_name": "StyleView",
            "description_width": ""
          }
        },
        "6bf3083e9d5848ac9b7cd14dc37a42f2": {
          "model_module": "@jupyter-widgets/base",
          "model_module_version": "1.2.0",
          "model_name": "LayoutModel",
          "state": {
            "_model_module": "@jupyter-widgets/base",
            "_model_module_version": "1.2.0",
            "_model_name": "LayoutModel",
            "_view_count": null,
            "_view_module": "@jupyter-widgets/base",
            "_view_module_version": "1.2.0",
            "_view_name": "LayoutView",
            "align_content": null,
            "align_items": null,
            "align_self": null,
            "border": null,
            "bottom": null,
            "display": null,
            "flex": null,
            "flex_flow": null,
            "grid_area": null,
            "grid_auto_columns": null,
            "grid_auto_flow": null,
            "grid_auto_rows": null,
            "grid_column": null,
            "grid_gap": null,
            "grid_row": null,
            "grid_template_areas": null,
            "grid_template_columns": null,
            "grid_template_rows": null,
            "height": null,
            "justify_content": null,
            "justify_items": null,
            "left": null,
            "margin": null,
            "max_height": null,
            "max_width": null,
            "min_height": null,
            "min_width": null,
            "object_fit": null,
            "object_position": null,
            "order": null,
            "overflow": null,
            "overflow_x": null,
            "overflow_y": null,
            "padding": null,
            "right": null,
            "top": null,
            "visibility": null,
            "width": null
          }
        },
        "6d296e774e954149b63ea3dafae65235": {
          "model_module": "@jupyter-widgets/controls",
          "model_module_version": "1.5.0",
          "model_name": "HTMLModel",
          "state": {
            "_dom_classes": [],
            "_model_module": "@jupyter-widgets/controls",
            "_model_module_version": "1.5.0",
            "_model_name": "HTMLModel",
            "_view_count": null,
            "_view_module": "@jupyter-widgets/controls",
            "_view_module_version": "1.5.0",
            "_view_name": "HTMLView",
            "description": "",
            "description_tooltip": null,
            "layout": "IPY_MODEL_c3e674981d43428fb67bb7ea27c9344d",
            "placeholder": "​",
            "style": "IPY_MODEL_5d8e380e9c7d4f248dd711bb7c1ce757",
            "value": "Downloading builder script: "
          }
        },
        "6f0732393580473fa45b036c37a9154e": {
          "model_module": "@jupyter-widgets/controls",
          "model_module_version": "1.5.0",
          "model_name": "HTMLModel",
          "state": {
            "_dom_classes": [],
            "_model_module": "@jupyter-widgets/controls",
            "_model_module_version": "1.5.0",
            "_model_name": "HTMLModel",
            "_view_count": null,
            "_view_module": "@jupyter-widgets/controls",
            "_view_module_version": "1.5.0",
            "_view_name": "HTMLView",
            "description": "",
            "description_tooltip": null,
            "layout": "IPY_MODEL_e90634b9d11b426192b9a1f60535a30f",
            "placeholder": "​",
            "style": "IPY_MODEL_6f3e48865255440f9da3ee6816f4f5f8",
            "value": " 300/300 [00:00&lt;00:00, 478.05 examples/s]"
          }
        },
        "6f3e48865255440f9da3ee6816f4f5f8": {
          "model_module": "@jupyter-widgets/controls",
          "model_module_version": "1.5.0",
          "model_name": "DescriptionStyleModel",
          "state": {
            "_model_module": "@jupyter-widgets/controls",
            "_model_module_version": "1.5.0",
            "_model_name": "DescriptionStyleModel",
            "_view_count": null,
            "_view_module": "@jupyter-widgets/base",
            "_view_module_version": "1.2.0",
            "_view_name": "StyleView",
            "description_width": ""
          }
        },
        "6fa2d5bfb4384259b3124d77f15049d3": {
          "model_module": "@jupyter-widgets/controls",
          "model_module_version": "1.5.0",
          "model_name": "DescriptionStyleModel",
          "state": {
            "_model_module": "@jupyter-widgets/controls",
            "_model_module_version": "1.5.0",
            "_model_name": "DescriptionStyleModel",
            "_view_count": null,
            "_view_module": "@jupyter-widgets/base",
            "_view_module_version": "1.2.0",
            "_view_name": "StyleView",
            "description_width": ""
          }
        },
        "7a9d68108a5240e483531bcfd7601f79": {
          "model_module": "@jupyter-widgets/controls",
          "model_module_version": "1.5.0",
          "model_name": "HTMLModel",
          "state": {
            "_dom_classes": [],
            "_model_module": "@jupyter-widgets/controls",
            "_model_module_version": "1.5.0",
            "_model_name": "HTMLModel",
            "_view_count": null,
            "_view_module": "@jupyter-widgets/controls",
            "_view_module_version": "1.5.0",
            "_view_name": "HTMLView",
            "description": "",
            "description_tooltip": null,
            "layout": "IPY_MODEL_292af18a56234cd4bd39c96c283527c9",
            "placeholder": "​",
            "style": "IPY_MODEL_55491b5a10a94392ae0bde07a363fe8c",
            "value": "Map: 100%"
          }
        },
        "7c9d72cb7f1844fa977a8c824913d52b": {
          "model_module": "@jupyter-widgets/base",
          "model_module_version": "1.2.0",
          "model_name": "LayoutModel",
          "state": {
            "_model_module": "@jupyter-widgets/base",
            "_model_module_version": "1.2.0",
            "_model_name": "LayoutModel",
            "_view_count": null,
            "_view_module": "@jupyter-widgets/base",
            "_view_module_version": "1.2.0",
            "_view_name": "LayoutView",
            "align_content": null,
            "align_items": null,
            "align_self": null,
            "border": null,
            "bottom": null,
            "display": null,
            "flex": null,
            "flex_flow": null,
            "grid_area": null,
            "grid_auto_columns": null,
            "grid_auto_flow": null,
            "grid_auto_rows": null,
            "grid_column": null,
            "grid_gap": null,
            "grid_row": null,
            "grid_template_areas": null,
            "grid_template_columns": null,
            "grid_template_rows": null,
            "height": null,
            "justify_content": null,
            "justify_items": null,
            "left": null,
            "margin": null,
            "max_height": null,
            "max_width": null,
            "min_height": null,
            "min_width": null,
            "object_fit": null,
            "object_position": null,
            "order": null,
            "overflow": null,
            "overflow_x": null,
            "overflow_y": null,
            "padding": null,
            "right": null,
            "top": null,
            "visibility": null,
            "width": null
          }
        },
        "7e85a9ba8f3243bfa36a5625fd05cb93": {
          "model_module": "@jupyter-widgets/controls",
          "model_module_version": "1.5.0",
          "model_name": "HBoxModel",
          "state": {
            "_dom_classes": [],
            "_model_module": "@jupyter-widgets/controls",
            "_model_module_version": "1.5.0",
            "_model_name": "HBoxModel",
            "_view_count": null,
            "_view_module": "@jupyter-widgets/controls",
            "_view_module_version": "1.5.0",
            "_view_name": "HBoxView",
            "box_style": "",
            "children": [
              "IPY_MODEL_3977260e71024a46a8450f4430cf1f3d",
              "IPY_MODEL_96e3126adf294b6899cf26f522d11c63",
              "IPY_MODEL_cc98769f4c8f4ba8afa147192183dba4"
            ],
            "layout": "IPY_MODEL_7c9d72cb7f1844fa977a8c824913d52b"
          }
        },
        "8d8b2a00785d4914b22f6e83dbe86b15": {
          "model_module": "@jupyter-widgets/base",
          "model_module_version": "1.2.0",
          "model_name": "LayoutModel",
          "state": {
            "_model_module": "@jupyter-widgets/base",
            "_model_module_version": "1.2.0",
            "_model_name": "LayoutModel",
            "_view_count": null,
            "_view_module": "@jupyter-widgets/base",
            "_view_module_version": "1.2.0",
            "_view_name": "LayoutView",
            "align_content": null,
            "align_items": null,
            "align_self": null,
            "border": null,
            "bottom": null,
            "display": null,
            "flex": null,
            "flex_flow": null,
            "grid_area": null,
            "grid_auto_columns": null,
            "grid_auto_flow": null,
            "grid_auto_rows": null,
            "grid_column": null,
            "grid_gap": null,
            "grid_row": null,
            "grid_template_areas": null,
            "grid_template_columns": null,
            "grid_template_rows": null,
            "height": null,
            "justify_content": null,
            "justify_items": null,
            "left": null,
            "margin": null,
            "max_height": null,
            "max_width": null,
            "min_height": null,
            "min_width": null,
            "object_fit": null,
            "object_position": null,
            "order": null,
            "overflow": null,
            "overflow_x": null,
            "overflow_y": null,
            "padding": null,
            "right": null,
            "top": null,
            "visibility": null,
            "width": null
          }
        },
        "96e3126adf294b6899cf26f522d11c63": {
          "model_module": "@jupyter-widgets/controls",
          "model_module_version": "1.5.0",
          "model_name": "FloatProgressModel",
          "state": {
            "_dom_classes": [],
            "_model_module": "@jupyter-widgets/controls",
            "_model_module_version": "1.5.0",
            "_model_name": "FloatProgressModel",
            "_view_count": null,
            "_view_module": "@jupyter-widgets/controls",
            "_view_module_version": "1.5.0",
            "_view_name": "ProgressView",
            "bar_style": "success",
            "description": "",
            "description_tooltip": null,
            "layout": "IPY_MODEL_fffeb65adf4d4663a9b587fe8f9656d9",
            "max": 50,
            "min": 0,
            "orientation": "horizontal",
            "style": "IPY_MODEL_53158961cfac4dd59eb01c306c9109c3",
            "value": 50
          }
        },
        "9a71dde6bf0149479c9b776a5d2d5f4f": {
          "model_module": "@jupyter-widgets/controls",
          "model_module_version": "1.5.0",
          "model_name": "ProgressStyleModel",
          "state": {
            "_model_module": "@jupyter-widgets/controls",
            "_model_module_version": "1.5.0",
            "_model_name": "ProgressStyleModel",
            "_view_count": null,
            "_view_module": "@jupyter-widgets/base",
            "_view_module_version": "1.2.0",
            "_view_name": "StyleView",
            "bar_color": null,
            "description_width": ""
          }
        },
        "9d7e245ee4704ef0bca4f576959562f6": {
          "model_module": "@jupyter-widgets/controls",
          "model_module_version": "1.5.0",
          "model_name": "HTMLModel",
          "state": {
            "_dom_classes": [],
            "_model_module": "@jupyter-widgets/controls",
            "_model_module_version": "1.5.0",
            "_model_name": "HTMLModel",
            "_view_count": null,
            "_view_module": "@jupyter-widgets/controls",
            "_view_module_version": "1.5.0",
            "_view_name": "HTMLView",
            "description": "",
            "description_tooltip": null,
            "layout": "IPY_MODEL_3c93719040b14ed2ab75839b3760d558",
            "placeholder": "​",
            "style": "IPY_MODEL_5e7167ba9fb84d3c8123214241d71f8c",
            "value": " 4.21k/? [00:00&lt;00:00, 390kB/s]"
          }
        },
        "a4ea0ee6679e4d92851bdb741f5881d3": {
          "model_module": "@jupyter-widgets/controls",
          "model_module_version": "1.5.0",
          "model_name": "HBoxModel",
          "state": {
            "_dom_classes": [],
            "_model_module": "@jupyter-widgets/controls",
            "_model_module_version": "1.5.0",
            "_model_name": "HBoxModel",
            "_view_count": null,
            "_view_module": "@jupyter-widgets/controls",
            "_view_module_version": "1.5.0",
            "_view_name": "HBoxView",
            "box_style": "",
            "children": [
              "IPY_MODEL_f2e32558594940f58be74b08f0d3d7ce",
              "IPY_MODEL_d427149a76494ddaad1f0fbddea867f2",
              "IPY_MODEL_e386bf805bca45dbaa04b90cb1377f6f"
            ],
            "layout": "IPY_MODEL_2e0376c45e4146d2a90aded8667aaefc"
          }
        },
        "aa3c3bc49f5743f094f7d21628ef2d7f": {
          "model_module": "@jupyter-widgets/base",
          "model_module_version": "1.2.0",
          "model_name": "LayoutModel",
          "state": {
            "_model_module": "@jupyter-widgets/base",
            "_model_module_version": "1.2.0",
            "_model_name": "LayoutModel",
            "_view_count": null,
            "_view_module": "@jupyter-widgets/base",
            "_view_module_version": "1.2.0",
            "_view_name": "LayoutView",
            "align_content": null,
            "align_items": null,
            "align_self": null,
            "border": null,
            "bottom": null,
            "display": null,
            "flex": null,
            "flex_flow": null,
            "grid_area": null,
            "grid_auto_columns": null,
            "grid_auto_flow": null,
            "grid_auto_rows": null,
            "grid_column": null,
            "grid_gap": null,
            "grid_row": null,
            "grid_template_areas": null,
            "grid_template_columns": null,
            "grid_template_rows": null,
            "height": null,
            "justify_content": null,
            "justify_items": null,
            "left": null,
            "margin": null,
            "max_height": null,
            "max_width": null,
            "min_height": null,
            "min_width": null,
            "object_fit": null,
            "object_position": null,
            "order": null,
            "overflow": null,
            "overflow_x": null,
            "overflow_y": null,
            "padding": null,
            "right": null,
            "top": null,
            "visibility": null,
            "width": null
          }
        },
        "ac2f90e0e0374dfd9b429f0dcbb65f3a": {
          "model_module": "@jupyter-widgets/controls",
          "model_module_version": "1.5.0",
          "model_name": "DescriptionStyleModel",
          "state": {
            "_model_module": "@jupyter-widgets/controls",
            "_model_module_version": "1.5.0",
            "_model_name": "DescriptionStyleModel",
            "_view_count": null,
            "_view_module": "@jupyter-widgets/base",
            "_view_module_version": "1.2.0",
            "_view_name": "StyleView",
            "description_width": ""
          }
        },
        "afcf1c90954a4a339c9d42c5eab18afc": {
          "model_module": "@jupyter-widgets/base",
          "model_module_version": "1.2.0",
          "model_name": "LayoutModel",
          "state": {
            "_model_module": "@jupyter-widgets/base",
            "_model_module_version": "1.2.0",
            "_model_name": "LayoutModel",
            "_view_count": null,
            "_view_module": "@jupyter-widgets/base",
            "_view_module_version": "1.2.0",
            "_view_name": "LayoutView",
            "align_content": null,
            "align_items": null,
            "align_self": null,
            "border": null,
            "bottom": null,
            "display": null,
            "flex": null,
            "flex_flow": null,
            "grid_area": null,
            "grid_auto_columns": null,
            "grid_auto_flow": null,
            "grid_auto_rows": null,
            "grid_column": null,
            "grid_gap": null,
            "grid_row": null,
            "grid_template_areas": null,
            "grid_template_columns": null,
            "grid_template_rows": null,
            "height": null,
            "justify_content": null,
            "justify_items": null,
            "left": null,
            "margin": null,
            "max_height": null,
            "max_width": null,
            "min_height": null,
            "min_width": null,
            "object_fit": null,
            "object_position": null,
            "order": null,
            "overflow": null,
            "overflow_x": null,
            "overflow_y": null,
            "padding": null,
            "right": null,
            "top": null,
            "visibility": null,
            "width": null
          }
        },
        "bd5177f62dd046e2ba2ab22150ea8214": {
          "model_module": "@jupyter-widgets/base",
          "model_module_version": "1.2.0",
          "model_name": "LayoutModel",
          "state": {
            "_model_module": "@jupyter-widgets/base",
            "_model_module_version": "1.2.0",
            "_model_name": "LayoutModel",
            "_view_count": null,
            "_view_module": "@jupyter-widgets/base",
            "_view_module_version": "1.2.0",
            "_view_name": "LayoutView",
            "align_content": null,
            "align_items": null,
            "align_self": null,
            "border": null,
            "bottom": null,
            "display": null,
            "flex": null,
            "flex_flow": null,
            "grid_area": null,
            "grid_auto_columns": null,
            "grid_auto_flow": null,
            "grid_auto_rows": null,
            "grid_column": null,
            "grid_gap": null,
            "grid_row": null,
            "grid_template_areas": null,
            "grid_template_columns": null,
            "grid_template_rows": null,
            "height": null,
            "justify_content": null,
            "justify_items": null,
            "left": null,
            "margin": null,
            "max_height": null,
            "max_width": null,
            "min_height": null,
            "min_width": null,
            "object_fit": null,
            "object_position": null,
            "order": null,
            "overflow": null,
            "overflow_x": null,
            "overflow_y": null,
            "padding": null,
            "right": null,
            "top": null,
            "visibility": null,
            "width": null
          }
        },
        "c3e674981d43428fb67bb7ea27c9344d": {
          "model_module": "@jupyter-widgets/base",
          "model_module_version": "1.2.0",
          "model_name": "LayoutModel",
          "state": {
            "_model_module": "@jupyter-widgets/base",
            "_model_module_version": "1.2.0",
            "_model_name": "LayoutModel",
            "_view_count": null,
            "_view_module": "@jupyter-widgets/base",
            "_view_module_version": "1.2.0",
            "_view_name": "LayoutView",
            "align_content": null,
            "align_items": null,
            "align_self": null,
            "border": null,
            "bottom": null,
            "display": null,
            "flex": null,
            "flex_flow": null,
            "grid_area": null,
            "grid_auto_columns": null,
            "grid_auto_flow": null,
            "grid_auto_rows": null,
            "grid_column": null,
            "grid_gap": null,
            "grid_row": null,
            "grid_template_areas": null,
            "grid_template_columns": null,
            "grid_template_rows": null,
            "height": null,
            "justify_content": null,
            "justify_items": null,
            "left": null,
            "margin": null,
            "max_height": null,
            "max_width": null,
            "min_height": null,
            "min_width": null,
            "object_fit": null,
            "object_position": null,
            "order": null,
            "overflow": null,
            "overflow_x": null,
            "overflow_y": null,
            "padding": null,
            "right": null,
            "top": null,
            "visibility": null,
            "width": null
          }
        },
        "cb6455d0fffe4bed88add2adf77a24aa": {
          "model_module": "@jupyter-widgets/base",
          "model_module_version": "1.2.0",
          "model_name": "LayoutModel",
          "state": {
            "_model_module": "@jupyter-widgets/base",
            "_model_module_version": "1.2.0",
            "_model_name": "LayoutModel",
            "_view_count": null,
            "_view_module": "@jupyter-widgets/base",
            "_view_module_version": "1.2.0",
            "_view_name": "LayoutView",
            "align_content": null,
            "align_items": null,
            "align_self": null,
            "border": null,
            "bottom": null,
            "display": null,
            "flex": null,
            "flex_flow": null,
            "grid_area": null,
            "grid_auto_columns": null,
            "grid_auto_flow": null,
            "grid_auto_rows": null,
            "grid_column": null,
            "grid_gap": null,
            "grid_row": null,
            "grid_template_areas": null,
            "grid_template_columns": null,
            "grid_template_rows": null,
            "height": null,
            "justify_content": null,
            "justify_items": null,
            "left": null,
            "margin": null,
            "max_height": null,
            "max_width": null,
            "min_height": null,
            "min_width": null,
            "object_fit": null,
            "object_position": null,
            "order": null,
            "overflow": null,
            "overflow_x": null,
            "overflow_y": null,
            "padding": null,
            "right": null,
            "top": null,
            "visibility": null,
            "width": null
          }
        },
        "cc98769f4c8f4ba8afa147192183dba4": {
          "model_module": "@jupyter-widgets/controls",
          "model_module_version": "1.5.0",
          "model_name": "HTMLModel",
          "state": {
            "_dom_classes": [],
            "_model_module": "@jupyter-widgets/controls",
            "_model_module_version": "1.5.0",
            "_model_name": "HTMLModel",
            "_view_count": null,
            "_view_module": "@jupyter-widgets/controls",
            "_view_module_version": "1.5.0",
            "_view_name": "HTMLView",
            "description": "",
            "description_tooltip": null,
            "layout": "IPY_MODEL_e181902ac0a741b4990835ec576c426d",
            "placeholder": "​",
            "style": "IPY_MODEL_fd7e7a877ac2468d876c1b66b8c24cb3",
            "value": " 50/50 [00:00&lt;00:00, 172.20 examples/s]"
          }
        },
        "cf5f9e88415d4e27968a4a736515df00": {
          "model_module": "@jupyter-widgets/base",
          "model_module_version": "1.2.0",
          "model_name": "LayoutModel",
          "state": {
            "_model_module": "@jupyter-widgets/base",
            "_model_module_version": "1.2.0",
            "_model_name": "LayoutModel",
            "_view_count": null,
            "_view_module": "@jupyter-widgets/base",
            "_view_module_version": "1.2.0",
            "_view_name": "LayoutView",
            "align_content": null,
            "align_items": null,
            "align_self": null,
            "border": null,
            "bottom": null,
            "display": null,
            "flex": null,
            "flex_flow": null,
            "grid_area": null,
            "grid_auto_columns": null,
            "grid_auto_flow": null,
            "grid_auto_rows": null,
            "grid_column": null,
            "grid_gap": null,
            "grid_row": null,
            "grid_template_areas": null,
            "grid_template_columns": null,
            "grid_template_rows": null,
            "height": null,
            "justify_content": null,
            "justify_items": null,
            "left": null,
            "margin": null,
            "max_height": null,
            "max_width": null,
            "min_height": null,
            "min_width": null,
            "object_fit": null,
            "object_position": null,
            "order": null,
            "overflow": null,
            "overflow_x": null,
            "overflow_y": null,
            "padding": null,
            "right": null,
            "top": null,
            "visibility": null,
            "width": null
          }
        },
        "d300053544f84a78846c3abe858d505e": {
          "model_module": "@jupyter-widgets/controls",
          "model_module_version": "1.5.0",
          "model_name": "ProgressStyleModel",
          "state": {
            "_model_module": "@jupyter-widgets/controls",
            "_model_module_version": "1.5.0",
            "_model_name": "ProgressStyleModel",
            "_view_count": null,
            "_view_module": "@jupyter-widgets/base",
            "_view_module_version": "1.2.0",
            "_view_name": "StyleView",
            "bar_color": null,
            "description_width": ""
          }
        },
        "d427149a76494ddaad1f0fbddea867f2": {
          "model_module": "@jupyter-widgets/controls",
          "model_module_version": "1.5.0",
          "model_name": "FloatProgressModel",
          "state": {
            "_dom_classes": [],
            "_model_module": "@jupyter-widgets/controls",
            "_model_module_version": "1.5.0",
            "_model_name": "FloatProgressModel",
            "_view_count": null,
            "_view_module": "@jupyter-widgets/controls",
            "_view_module_version": "1.5.0",
            "_view_name": "ProgressView",
            "bar_style": "success",
            "description": "",
            "description_tooltip": null,
            "layout": "IPY_MODEL_6bf3083e9d5848ac9b7cd14dc37a42f2",
            "max": 3000,
            "min": 0,
            "orientation": "horizontal",
            "style": "IPY_MODEL_e52b8c46ad184ee18818b86f2d20ea9d",
            "value": 3000
          }
        },
        "d9ed1c2df772409c95d0ad350e58520d": {
          "model_module": "@jupyter-widgets/controls",
          "model_module_version": "1.5.0",
          "model_name": "HTMLModel",
          "state": {
            "_dom_classes": [],
            "_model_module": "@jupyter-widgets/controls",
            "_model_module_version": "1.5.0",
            "_model_name": "HTMLModel",
            "_view_count": null,
            "_view_module": "@jupyter-widgets/controls",
            "_view_module_version": "1.5.0",
            "_view_name": "HTMLView",
            "description": "",
            "description_tooltip": null,
            "layout": "IPY_MODEL_39af8a3bc04643ee8a13e88dd4bd885f",
            "placeholder": "​",
            "style": "IPY_MODEL_6fa2d5bfb4384259b3124d77f15049d3",
            "value": "Map: 100%"
          }
        },
        "e0323736b7ed477e984ff9a6fb25f854": {
          "model_module": "@jupyter-widgets/controls",
          "model_module_version": "1.5.0",
          "model_name": "FloatProgressModel",
          "state": {
            "_dom_classes": [],
            "_model_module": "@jupyter-widgets/controls",
            "_model_module_version": "1.5.0",
            "_model_name": "FloatProgressModel",
            "_view_count": null,
            "_view_module": "@jupyter-widgets/controls",
            "_view_module_version": "1.5.0",
            "_view_name": "ProgressView",
            "bar_style": "success",
            "description": "",
            "description_tooltip": null,
            "layout": "IPY_MODEL_8d8b2a00785d4914b22f6e83dbe86b15",
            "max": 50,
            "min": 0,
            "orientation": "horizontal",
            "style": "IPY_MODEL_d300053544f84a78846c3abe858d505e",
            "value": 50
          }
        },
        "e06e3eab74a247a0974bd40bbbcc248a": {
          "model_module": "@jupyter-widgets/controls",
          "model_module_version": "1.5.0",
          "model_name": "FloatProgressModel",
          "state": {
            "_dom_classes": [],
            "_model_module": "@jupyter-widgets/controls",
            "_model_module_version": "1.5.0",
            "_model_name": "FloatProgressModel",
            "_view_count": null,
            "_view_module": "@jupyter-widgets/controls",
            "_view_module_version": "1.5.0",
            "_view_name": "ProgressView",
            "bar_style": "success",
            "description": "",
            "description_tooltip": null,
            "layout": "IPY_MODEL_e7eb4529f4364c7cb0be90282da73e3c",
            "max": 1652,
            "min": 0,
            "orientation": "horizontal",
            "style": "IPY_MODEL_9a71dde6bf0149479c9b776a5d2d5f4f",
            "value": 1652
          }
        },
        "e181902ac0a741b4990835ec576c426d": {
          "model_module": "@jupyter-widgets/base",
          "model_module_version": "1.2.0",
          "model_name": "LayoutModel",
          "state": {
            "_model_module": "@jupyter-widgets/base",
            "_model_module_version": "1.2.0",
            "_model_name": "LayoutModel",
            "_view_count": null,
            "_view_module": "@jupyter-widgets/base",
            "_view_module_version": "1.2.0",
            "_view_name": "LayoutView",
            "align_content": null,
            "align_items": null,
            "align_self": null,
            "border": null,
            "bottom": null,
            "display": null,
            "flex": null,
            "flex_flow": null,
            "grid_area": null,
            "grid_auto_columns": null,
            "grid_auto_flow": null,
            "grid_auto_rows": null,
            "grid_column": null,
            "grid_gap": null,
            "grid_row": null,
            "grid_template_areas": null,
            "grid_template_columns": null,
            "grid_template_rows": null,
            "height": null,
            "justify_content": null,
            "justify_items": null,
            "left": null,
            "margin": null,
            "max_height": null,
            "max_width": null,
            "min_height": null,
            "min_width": null,
            "object_fit": null,
            "object_position": null,
            "order": null,
            "overflow": null,
            "overflow_x": null,
            "overflow_y": null,
            "padding": null,
            "right": null,
            "top": null,
            "visibility": null,
            "width": null
          }
        },
        "e386bf805bca45dbaa04b90cb1377f6f": {
          "model_module": "@jupyter-widgets/controls",
          "model_module_version": "1.5.0",
          "model_name": "HTMLModel",
          "state": {
            "_dom_classes": [],
            "_model_module": "@jupyter-widgets/controls",
            "_model_module_version": "1.5.0",
            "_model_name": "HTMLModel",
            "_view_count": null,
            "_view_module": "@jupyter-widgets/controls",
            "_view_module_version": "1.5.0",
            "_view_name": "HTMLView",
            "description": "",
            "description_tooltip": null,
            "layout": "IPY_MODEL_f08858ecf17b48a788182f09ee836786",
            "placeholder": "​",
            "style": "IPY_MODEL_6733d96b6c364c0394a43e2a9b432893",
            "value": " 3000/3000 [00:06&lt;00:00, 506.80 examples/s]"
          }
        },
        "e52b8c46ad184ee18818b86f2d20ea9d": {
          "model_module": "@jupyter-widgets/controls",
          "model_module_version": "1.5.0",
          "model_name": "ProgressStyleModel",
          "state": {
            "_model_module": "@jupyter-widgets/controls",
            "_model_module_version": "1.5.0",
            "_model_name": "ProgressStyleModel",
            "_view_count": null,
            "_view_module": "@jupyter-widgets/base",
            "_view_module_version": "1.2.0",
            "_view_name": "StyleView",
            "bar_color": null,
            "description_width": ""
          }
        },
        "e7eb4529f4364c7cb0be90282da73e3c": {
          "model_module": "@jupyter-widgets/base",
          "model_module_version": "1.2.0",
          "model_name": "LayoutModel",
          "state": {
            "_model_module": "@jupyter-widgets/base",
            "_model_module_version": "1.2.0",
            "_model_name": "LayoutModel",
            "_view_count": null,
            "_view_module": "@jupyter-widgets/base",
            "_view_module_version": "1.2.0",
            "_view_name": "LayoutView",
            "align_content": null,
            "align_items": null,
            "align_self": null,
            "border": null,
            "bottom": null,
            "display": null,
            "flex": null,
            "flex_flow": null,
            "grid_area": null,
            "grid_auto_columns": null,
            "grid_auto_flow": null,
            "grid_auto_rows": null,
            "grid_column": null,
            "grid_gap": null,
            "grid_row": null,
            "grid_template_areas": null,
            "grid_template_columns": null,
            "grid_template_rows": null,
            "height": null,
            "justify_content": null,
            "justify_items": null,
            "left": null,
            "margin": null,
            "max_height": null,
            "max_width": null,
            "min_height": null,
            "min_width": null,
            "object_fit": null,
            "object_position": null,
            "order": null,
            "overflow": null,
            "overflow_x": null,
            "overflow_y": null,
            "padding": null,
            "right": null,
            "top": null,
            "visibility": null,
            "width": null
          }
        },
        "e90634b9d11b426192b9a1f60535a30f": {
          "model_module": "@jupyter-widgets/base",
          "model_module_version": "1.2.0",
          "model_name": "LayoutModel",
          "state": {
            "_model_module": "@jupyter-widgets/base",
            "_model_module_version": "1.2.0",
            "_model_name": "LayoutModel",
            "_view_count": null,
            "_view_module": "@jupyter-widgets/base",
            "_view_module_version": "1.2.0",
            "_view_name": "LayoutView",
            "align_content": null,
            "align_items": null,
            "align_self": null,
            "border": null,
            "bottom": null,
            "display": null,
            "flex": null,
            "flex_flow": null,
            "grid_area": null,
            "grid_auto_columns": null,
            "grid_auto_flow": null,
            "grid_auto_rows": null,
            "grid_column": null,
            "grid_gap": null,
            "grid_row": null,
            "grid_template_areas": null,
            "grid_template_columns": null,
            "grid_template_rows": null,
            "height": null,
            "justify_content": null,
            "justify_items": null,
            "left": null,
            "margin": null,
            "max_height": null,
            "max_width": null,
            "min_height": null,
            "min_width": null,
            "object_fit": null,
            "object_position": null,
            "order": null,
            "overflow": null,
            "overflow_x": null,
            "overflow_y": null,
            "padding": null,
            "right": null,
            "top": null,
            "visibility": null,
            "width": null
          }
        },
        "eca352a9d7954473b7747c5d6e4eb432": {
          "model_module": "@jupyter-widgets/controls",
          "model_module_version": "1.5.0",
          "model_name": "HBoxModel",
          "state": {
            "_dom_classes": [],
            "_model_module": "@jupyter-widgets/controls",
            "_model_module_version": "1.5.0",
            "_model_name": "HBoxModel",
            "_view_count": null,
            "_view_module": "@jupyter-widgets/controls",
            "_view_module_version": "1.5.0",
            "_view_name": "HBoxView",
            "box_style": "",
            "children": [
              "IPY_MODEL_7a9d68108a5240e483531bcfd7601f79",
              "IPY_MODEL_e0323736b7ed477e984ff9a6fb25f854",
              "IPY_MODEL_eee9155184cc470bb195f4d8febe7eae"
            ],
            "layout": "IPY_MODEL_cf5f9e88415d4e27968a4a736515df00"
          }
        },
        "eee9155184cc470bb195f4d8febe7eae": {
          "model_module": "@jupyter-widgets/controls",
          "model_module_version": "1.5.0",
          "model_name": "HTMLModel",
          "state": {
            "_dom_classes": [],
            "_model_module": "@jupyter-widgets/controls",
            "_model_module_version": "1.5.0",
            "_model_name": "HTMLModel",
            "_view_count": null,
            "_view_module": "@jupyter-widgets/controls",
            "_view_module_version": "1.5.0",
            "_view_name": "HTMLView",
            "description": "",
            "description_tooltip": null,
            "layout": "IPY_MODEL_5864579ef8a24c9cb0ddd4d6c9d4974b",
            "placeholder": "​",
            "style": "IPY_MODEL_ac2f90e0e0374dfd9b429f0dcbb65f3a",
            "value": " 50/50 [00:00&lt;00:00, 201.50 examples/s]"
          }
        },
        "f08858ecf17b48a788182f09ee836786": {
          "model_module": "@jupyter-widgets/base",
          "model_module_version": "1.2.0",
          "model_name": "LayoutModel",
          "state": {
            "_model_module": "@jupyter-widgets/base",
            "_model_module_version": "1.2.0",
            "_model_name": "LayoutModel",
            "_view_count": null,
            "_view_module": "@jupyter-widgets/base",
            "_view_module_version": "1.2.0",
            "_view_name": "LayoutView",
            "align_content": null,
            "align_items": null,
            "align_self": null,
            "border": null,
            "bottom": null,
            "display": null,
            "flex": null,
            "flex_flow": null,
            "grid_area": null,
            "grid_auto_columns": null,
            "grid_auto_flow": null,
            "grid_auto_rows": null,
            "grid_column": null,
            "grid_gap": null,
            "grid_row": null,
            "grid_template_areas": null,
            "grid_template_columns": null,
            "grid_template_rows": null,
            "height": null,
            "justify_content": null,
            "justify_items": null,
            "left": null,
            "margin": null,
            "max_height": null,
            "max_width": null,
            "min_height": null,
            "min_width": null,
            "object_fit": null,
            "object_position": null,
            "order": null,
            "overflow": null,
            "overflow_x": null,
            "overflow_y": null,
            "padding": null,
            "right": null,
            "top": null,
            "visibility": null,
            "width": null
          }
        },
        "f2e32558594940f58be74b08f0d3d7ce": {
          "model_module": "@jupyter-widgets/controls",
          "model_module_version": "1.5.0",
          "model_name": "HTMLModel",
          "state": {
            "_dom_classes": [],
            "_model_module": "@jupyter-widgets/controls",
            "_model_module_version": "1.5.0",
            "_model_name": "HTMLModel",
            "_view_count": null,
            "_view_module": "@jupyter-widgets/controls",
            "_view_module_version": "1.5.0",
            "_view_name": "HTMLView",
            "description": "",
            "description_tooltip": null,
            "layout": "IPY_MODEL_cb6455d0fffe4bed88add2adf77a24aa",
            "placeholder": "​",
            "style": "IPY_MODEL_1de64c64cfa24e61b2af37cc3ee3af5f",
            "value": "Map: 100%"
          }
        },
        "fd7e7a877ac2468d876c1b66b8c24cb3": {
          "model_module": "@jupyter-widgets/controls",
          "model_module_version": "1.5.0",
          "model_name": "DescriptionStyleModel",
          "state": {
            "_model_module": "@jupyter-widgets/controls",
            "_model_module_version": "1.5.0",
            "_model_name": "DescriptionStyleModel",
            "_view_count": null,
            "_view_module": "@jupyter-widgets/base",
            "_view_module_version": "1.2.0",
            "_view_name": "StyleView",
            "description_width": ""
          }
        },
        "fffeb65adf4d4663a9b587fe8f9656d9": {
          "model_module": "@jupyter-widgets/base",
          "model_module_version": "1.2.0",
          "model_name": "LayoutModel",
          "state": {
            "_model_module": "@jupyter-widgets/base",
            "_model_module_version": "1.2.0",
            "_model_name": "LayoutModel",
            "_view_count": null,
            "_view_module": "@jupyter-widgets/base",
            "_view_module_version": "1.2.0",
            "_view_name": "LayoutView",
            "align_content": null,
            "align_items": null,
            "align_self": null,
            "border": null,
            "bottom": null,
            "display": null,
            "flex": null,
            "flex_flow": null,
            "grid_area": null,
            "grid_auto_columns": null,
            "grid_auto_flow": null,
            "grid_auto_rows": null,
            "grid_column": null,
            "grid_gap": null,
            "grid_row": null,
            "grid_template_areas": null,
            "grid_template_columns": null,
            "grid_template_rows": null,
            "height": null,
            "justify_content": null,
            "justify_items": null,
            "left": null,
            "margin": null,
            "max_height": null,
            "max_width": null,
            "min_height": null,
            "min_width": null,
            "object_fit": null,
            "object_position": null,
            "order": null,
            "overflow": null,
            "overflow_x": null,
            "overflow_y": null,
            "padding": null,
            "right": null,
            "top": null,
            "visibility": null,
            "width": null
          }
        }
      }
    }
  },
  "nbformat": 4,
  "nbformat_minor": 0
}
